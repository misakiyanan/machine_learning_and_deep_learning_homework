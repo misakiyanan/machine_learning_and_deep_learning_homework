{
 "cells": [
  {
   "cell_type": "markdown",
   "metadata": {},
   "source": [
    "## 高中体测数据可视化（体测分数_男生，体测分数-女生）"
   ]
  },
  {
   "cell_type": "code",
   "execution_count": 6,
   "metadata": {
    "ExecuteTime": {
     "end_time": "2021-07-26T06:45:18.933363Z",
     "start_time": "2021-07-26T06:45:18.929535Z"
    }
   },
   "outputs": [],
   "source": [
    "import pandas as pd\n",
    "import numpy as np\n",
    "import matplotlib.pyplot as plt\n",
    "from matplotlib import font_manager\n",
    "\n",
    "import warnings\n",
    "warnings.simplefilter(action='ignore')\n",
    "\n",
    "my_font = font_manager.FontProperties(fname=\"/System/Library/Fonts/PingFang.ttc\")"
   ]
  },
  {
   "cell_type": "code",
   "execution_count": 7,
   "metadata": {
    "ExecuteTime": {
     "end_time": "2021-07-26T06:45:20.318355Z",
     "start_time": "2021-07-26T06:45:20.258995Z"
    }
   },
   "outputs": [],
   "source": [
    "data_womens = pd.read_excel('体测分数_女生.xls')\n",
    "data_mens = pd.read_excel('体测分数_男生.xls')"
   ]
  },
  {
   "cell_type": "code",
   "execution_count": 8,
   "metadata": {
    "ExecuteTime": {
     "end_time": "2021-07-26T06:45:20.823449Z",
     "start_time": "2021-07-26T06:45:20.800348Z"
    }
   },
   "outputs": [
    {
     "data": {
      "text/html": [
       "<div>\n",
       "<style scoped>\n",
       "    .dataframe tbody tr th:only-of-type {\n",
       "        vertical-align: middle;\n",
       "    }\n",
       "\n",
       "    .dataframe tbody tr th {\n",
       "        vertical-align: top;\n",
       "    }\n",
       "\n",
       "    .dataframe thead th {\n",
       "        text-align: right;\n",
       "    }\n",
       "</style>\n",
       "<table border=\"1\" class=\"dataframe\">\n",
       "  <thead>\n",
       "    <tr style=\"text-align: right;\">\n",
       "      <th></th>\n",
       "      <th>班级</th>\n",
       "      <th>性别</th>\n",
       "      <th>女800米跑</th>\n",
       "      <th>女800米跑分数</th>\n",
       "      <th>女50米跑</th>\n",
       "      <th>女50米跑分数</th>\n",
       "      <th>女跳远</th>\n",
       "      <th>女跳远分数</th>\n",
       "      <th>女体前屈</th>\n",
       "      <th>女体前屈分数</th>\n",
       "      <th>女仰卧</th>\n",
       "      <th>女仰卧分数</th>\n",
       "      <th>女肺活量</th>\n",
       "      <th>女肺活量分数</th>\n",
       "      <th>身高</th>\n",
       "      <th>体重</th>\n",
       "      <th>BMI</th>\n",
       "    </tr>\n",
       "  </thead>\n",
       "  <tbody>\n",
       "    <tr>\n",
       "      <th>0</th>\n",
       "      <td>1</td>\n",
       "      <td>女</td>\n",
       "      <td>3.22</td>\n",
       "      <td>100</td>\n",
       "      <td>9.32</td>\n",
       "      <td>72</td>\n",
       "      <td>185</td>\n",
       "      <td>85</td>\n",
       "      <td>16</td>\n",
       "      <td>76</td>\n",
       "      <td>48</td>\n",
       "      <td>85</td>\n",
       "      <td>3775</td>\n",
       "      <td>100</td>\n",
       "      <td>163.0</td>\n",
       "      <td>51.299999</td>\n",
       "      <td>19.309999</td>\n",
       "    </tr>\n",
       "    <tr>\n",
       "      <th>1</th>\n",
       "      <td>1</td>\n",
       "      <td>女</td>\n",
       "      <td>4.59</td>\n",
       "      <td>40</td>\n",
       "      <td>11.44</td>\n",
       "      <td>10</td>\n",
       "      <td>148</td>\n",
       "      <td>60</td>\n",
       "      <td>9</td>\n",
       "      <td>66</td>\n",
       "      <td>29</td>\n",
       "      <td>66</td>\n",
       "      <td>3683</td>\n",
       "      <td>100</td>\n",
       "      <td>163.0</td>\n",
       "      <td>66.599998</td>\n",
       "      <td>25.070000</td>\n",
       "    </tr>\n",
       "    <tr>\n",
       "      <th>2</th>\n",
       "      <td>1</td>\n",
       "      <td>女</td>\n",
       "      <td>3.46</td>\n",
       "      <td>80</td>\n",
       "      <td>13.40</td>\n",
       "      <td>0</td>\n",
       "      <td>150</td>\n",
       "      <td>60</td>\n",
       "      <td>7</td>\n",
       "      <td>64</td>\n",
       "      <td>40</td>\n",
       "      <td>76</td>\n",
       "      <td>3331</td>\n",
       "      <td>100</td>\n",
       "      <td>157.0</td>\n",
       "      <td>60.000000</td>\n",
       "      <td>24.340000</td>\n",
       "    </tr>\n",
       "    <tr>\n",
       "      <th>3</th>\n",
       "      <td>1</td>\n",
       "      <td>女</td>\n",
       "      <td>3.39</td>\n",
       "      <td>85</td>\n",
       "      <td>9.52</td>\n",
       "      <td>70</td>\n",
       "      <td>172</td>\n",
       "      <td>76</td>\n",
       "      <td>21</td>\n",
       "      <td>90</td>\n",
       "      <td>46</td>\n",
       "      <td>85</td>\n",
       "      <td>3701</td>\n",
       "      <td>100</td>\n",
       "      <td>160.0</td>\n",
       "      <td>50.700001</td>\n",
       "      <td>19.799999</td>\n",
       "    </tr>\n",
       "    <tr>\n",
       "      <th>4</th>\n",
       "      <td>1</td>\n",
       "      <td>女</td>\n",
       "      <td>3.43</td>\n",
       "      <td>80</td>\n",
       "      <td>9.79</td>\n",
       "      <td>68</td>\n",
       "      <td>145</td>\n",
       "      <td>50</td>\n",
       "      <td>8</td>\n",
       "      <td>64</td>\n",
       "      <td>34</td>\n",
       "      <td>70</td>\n",
       "      <td>3592</td>\n",
       "      <td>100</td>\n",
       "      <td>167.0</td>\n",
       "      <td>63.900002</td>\n",
       "      <td>22.910000</td>\n",
       "    </tr>\n",
       "    <tr>\n",
       "      <th>...</th>\n",
       "      <td>...</td>\n",
       "      <td>...</td>\n",
       "      <td>...</td>\n",
       "      <td>...</td>\n",
       "      <td>...</td>\n",
       "      <td>...</td>\n",
       "      <td>...</td>\n",
       "      <td>...</td>\n",
       "      <td>...</td>\n",
       "      <td>...</td>\n",
       "      <td>...</td>\n",
       "      <td>...</td>\n",
       "      <td>...</td>\n",
       "      <td>...</td>\n",
       "      <td>...</td>\n",
       "      <td>...</td>\n",
       "      <td>...</td>\n",
       "    </tr>\n",
       "    <tr>\n",
       "      <th>588</th>\n",
       "      <td>17</td>\n",
       "      <td>女</td>\n",
       "      <td>3.51</td>\n",
       "      <td>78</td>\n",
       "      <td>9.60</td>\n",
       "      <td>68</td>\n",
       "      <td>150</td>\n",
       "      <td>60</td>\n",
       "      <td>24</td>\n",
       "      <td>95</td>\n",
       "      <td>41</td>\n",
       "      <td>78</td>\n",
       "      <td>2255</td>\n",
       "      <td>70</td>\n",
       "      <td>158.0</td>\n",
       "      <td>49.000000</td>\n",
       "      <td>19.629999</td>\n",
       "    </tr>\n",
       "    <tr>\n",
       "      <th>589</th>\n",
       "      <td>17</td>\n",
       "      <td>女</td>\n",
       "      <td>4.00</td>\n",
       "      <td>76</td>\n",
       "      <td>10.18</td>\n",
       "      <td>64</td>\n",
       "      <td>150</td>\n",
       "      <td>60</td>\n",
       "      <td>13</td>\n",
       "      <td>72</td>\n",
       "      <td>36</td>\n",
       "      <td>72</td>\n",
       "      <td>2937</td>\n",
       "      <td>85</td>\n",
       "      <td>161.0</td>\n",
       "      <td>55.700001</td>\n",
       "      <td>21.490000</td>\n",
       "    </tr>\n",
       "    <tr>\n",
       "      <th>590</th>\n",
       "      <td>17</td>\n",
       "      <td>女</td>\n",
       "      <td>3.45</td>\n",
       "      <td>80</td>\n",
       "      <td>10.18</td>\n",
       "      <td>64</td>\n",
       "      <td>152</td>\n",
       "      <td>62</td>\n",
       "      <td>15</td>\n",
       "      <td>76</td>\n",
       "      <td>35</td>\n",
       "      <td>72</td>\n",
       "      <td>2592</td>\n",
       "      <td>76</td>\n",
       "      <td>165.0</td>\n",
       "      <td>48.599998</td>\n",
       "      <td>17.850000</td>\n",
       "    </tr>\n",
       "    <tr>\n",
       "      <th>591</th>\n",
       "      <td>17</td>\n",
       "      <td>女</td>\n",
       "      <td>4.01</td>\n",
       "      <td>74</td>\n",
       "      <td>9.67</td>\n",
       "      <td>68</td>\n",
       "      <td>165</td>\n",
       "      <td>70</td>\n",
       "      <td>10</td>\n",
       "      <td>68</td>\n",
       "      <td>41</td>\n",
       "      <td>78</td>\n",
       "      <td>1829</td>\n",
       "      <td>60</td>\n",
       "      <td>154.0</td>\n",
       "      <td>43.599998</td>\n",
       "      <td>18.379999</td>\n",
       "    </tr>\n",
       "    <tr>\n",
       "      <th>592</th>\n",
       "      <td>17</td>\n",
       "      <td>女</td>\n",
       "      <td>4.48</td>\n",
       "      <td>50</td>\n",
       "      <td>9.09</td>\n",
       "      <td>74</td>\n",
       "      <td>180</td>\n",
       "      <td>80</td>\n",
       "      <td>10</td>\n",
       "      <td>68</td>\n",
       "      <td>46</td>\n",
       "      <td>85</td>\n",
       "      <td>2962</td>\n",
       "      <td>85</td>\n",
       "      <td>162.0</td>\n",
       "      <td>55.299999</td>\n",
       "      <td>21.070000</td>\n",
       "    </tr>\n",
       "  </tbody>\n",
       "</table>\n",
       "<p>593 rows × 17 columns</p>\n",
       "</div>"
      ],
      "text/plain": [
       "     班级 性别  女800米跑  女800米跑分数  女50米跑  女50米跑分数  女跳远  女跳远分数  女体前屈  女体前屈分数  女仰卧  \\\n",
       "0     1  女    3.22       100   9.32       72  185     85    16      76   48   \n",
       "1     1  女    4.59        40  11.44       10  148     60     9      66   29   \n",
       "2     1  女    3.46        80  13.40        0  150     60     7      64   40   \n",
       "3     1  女    3.39        85   9.52       70  172     76    21      90   46   \n",
       "4     1  女    3.43        80   9.79       68  145     50     8      64   34   \n",
       "..   .. ..     ...       ...    ...      ...  ...    ...   ...     ...  ...   \n",
       "588  17  女    3.51        78   9.60       68  150     60    24      95   41   \n",
       "589  17  女    4.00        76  10.18       64  150     60    13      72   36   \n",
       "590  17  女    3.45        80  10.18       64  152     62    15      76   35   \n",
       "591  17  女    4.01        74   9.67       68  165     70    10      68   41   \n",
       "592  17  女    4.48        50   9.09       74  180     80    10      68   46   \n",
       "\n",
       "     女仰卧分数  女肺活量  女肺活量分数     身高         体重        BMI  \n",
       "0       85  3775     100  163.0  51.299999  19.309999  \n",
       "1       66  3683     100  163.0  66.599998  25.070000  \n",
       "2       76  3331     100  157.0  60.000000  24.340000  \n",
       "3       85  3701     100  160.0  50.700001  19.799999  \n",
       "4       70  3592     100  167.0  63.900002  22.910000  \n",
       "..     ...   ...     ...    ...        ...        ...  \n",
       "588     78  2255      70  158.0  49.000000  19.629999  \n",
       "589     72  2937      85  161.0  55.700001  21.490000  \n",
       "590     72  2592      76  165.0  48.599998  17.850000  \n",
       "591     78  1829      60  154.0  43.599998  18.379999  \n",
       "592     85  2962      85  162.0  55.299999  21.070000  \n",
       "\n",
       "[593 rows x 17 columns]"
      ]
     },
     "execution_count": 8,
     "metadata": {},
     "output_type": "execute_result"
    }
   ],
   "source": [
    "data_womens"
   ]
  },
  {
   "cell_type": "code",
   "execution_count": 9,
   "metadata": {
    "ExecuteTime": {
     "end_time": "2021-07-26T06:45:21.865773Z",
     "start_time": "2021-07-26T06:45:21.843521Z"
    }
   },
   "outputs": [
    {
     "data": {
      "text/html": [
       "<div>\n",
       "<style scoped>\n",
       "    .dataframe tbody tr th:only-of-type {\n",
       "        vertical-align: middle;\n",
       "    }\n",
       "\n",
       "    .dataframe tbody tr th {\n",
       "        vertical-align: top;\n",
       "    }\n",
       "\n",
       "    .dataframe thead th {\n",
       "        text-align: right;\n",
       "    }\n",
       "</style>\n",
       "<table border=\"1\" class=\"dataframe\">\n",
       "  <thead>\n",
       "    <tr style=\"text-align: right;\">\n",
       "      <th></th>\n",
       "      <th>班级</th>\n",
       "      <th>性别</th>\n",
       "      <th>男1000米跑</th>\n",
       "      <th>男1000米跑分数</th>\n",
       "      <th>男50米跑</th>\n",
       "      <th>男50米跑分数</th>\n",
       "      <th>男跳远</th>\n",
       "      <th>男跳远分数</th>\n",
       "      <th>男体前屈</th>\n",
       "      <th>男体前屈分数</th>\n",
       "      <th>男引体</th>\n",
       "      <th>男引体分数</th>\n",
       "      <th>男肺活量</th>\n",
       "      <th>男肺活量分数</th>\n",
       "      <th>身高</th>\n",
       "      <th>体重</th>\n",
       "      <th>BMI</th>\n",
       "    </tr>\n",
       "  </thead>\n",
       "  <tbody>\n",
       "    <tr>\n",
       "      <th>0</th>\n",
       "      <td>1</td>\n",
       "      <td>男</td>\n",
       "      <td>4.13</td>\n",
       "      <td>72</td>\n",
       "      <td>8.88</td>\n",
       "      <td>66</td>\n",
       "      <td>195</td>\n",
       "      <td>60</td>\n",
       "      <td>12</td>\n",
       "      <td>74</td>\n",
       "      <td>1</td>\n",
       "      <td>0</td>\n",
       "      <td>2785</td>\n",
       "      <td>62</td>\n",
       "      <td>170</td>\n",
       "      <td>72.599998</td>\n",
       "      <td>25.120001</td>\n",
       "    </tr>\n",
       "    <tr>\n",
       "      <th>1</th>\n",
       "      <td>1</td>\n",
       "      <td>男</td>\n",
       "      <td>4.16</td>\n",
       "      <td>70</td>\n",
       "      <td>7.70</td>\n",
       "      <td>78</td>\n",
       "      <td>225</td>\n",
       "      <td>74</td>\n",
       "      <td>11</td>\n",
       "      <td>74</td>\n",
       "      <td>7</td>\n",
       "      <td>60</td>\n",
       "      <td>3133</td>\n",
       "      <td>68</td>\n",
       "      <td>174</td>\n",
       "      <td>52.700001</td>\n",
       "      <td>17.410000</td>\n",
       "    </tr>\n",
       "    <tr>\n",
       "      <th>2</th>\n",
       "      <td>1</td>\n",
       "      <td>男</td>\n",
       "      <td>4.09</td>\n",
       "      <td>74</td>\n",
       "      <td>8.45</td>\n",
       "      <td>70</td>\n",
       "      <td>218</td>\n",
       "      <td>70</td>\n",
       "      <td>14</td>\n",
       "      <td>78</td>\n",
       "      <td>1</td>\n",
       "      <td>0</td>\n",
       "      <td>3901</td>\n",
       "      <td>80</td>\n",
       "      <td>169</td>\n",
       "      <td>46.500000</td>\n",
       "      <td>16.280001</td>\n",
       "    </tr>\n",
       "    <tr>\n",
       "      <th>3</th>\n",
       "      <td>1</td>\n",
       "      <td>男</td>\n",
       "      <td>4.21</td>\n",
       "      <td>68</td>\n",
       "      <td>8.05</td>\n",
       "      <td>74</td>\n",
       "      <td>206</td>\n",
       "      <td>64</td>\n",
       "      <td>13</td>\n",
       "      <td>76</td>\n",
       "      <td>1</td>\n",
       "      <td>0</td>\n",
       "      <td>4946</td>\n",
       "      <td>100</td>\n",
       "      <td>183</td>\n",
       "      <td>79.699997</td>\n",
       "      <td>23.799999</td>\n",
       "    </tr>\n",
       "    <tr>\n",
       "      <th>4</th>\n",
       "      <td>1</td>\n",
       "      <td>男</td>\n",
       "      <td>3.44</td>\n",
       "      <td>85</td>\n",
       "      <td>7.52</td>\n",
       "      <td>78</td>\n",
       "      <td>210</td>\n",
       "      <td>66</td>\n",
       "      <td>13</td>\n",
       "      <td>76</td>\n",
       "      <td>9</td>\n",
       "      <td>68</td>\n",
       "      <td>3538</td>\n",
       "      <td>74</td>\n",
       "      <td>171</td>\n",
       "      <td>54.700001</td>\n",
       "      <td>18.709999</td>\n",
       "    </tr>\n",
       "    <tr>\n",
       "      <th>...</th>\n",
       "      <td>...</td>\n",
       "      <td>...</td>\n",
       "      <td>...</td>\n",
       "      <td>...</td>\n",
       "      <td>...</td>\n",
       "      <td>...</td>\n",
       "      <td>...</td>\n",
       "      <td>...</td>\n",
       "      <td>...</td>\n",
       "      <td>...</td>\n",
       "      <td>...</td>\n",
       "      <td>...</td>\n",
       "      <td>...</td>\n",
       "      <td>...</td>\n",
       "      <td>...</td>\n",
       "      <td>...</td>\n",
       "      <td>...</td>\n",
       "    </tr>\n",
       "    <tr>\n",
       "      <th>472</th>\n",
       "      <td>17</td>\n",
       "      <td>男</td>\n",
       "      <td>4.23</td>\n",
       "      <td>68</td>\n",
       "      <td>8.27</td>\n",
       "      <td>72</td>\n",
       "      <td>208</td>\n",
       "      <td>66</td>\n",
       "      <td>10</td>\n",
       "      <td>72</td>\n",
       "      <td>0</td>\n",
       "      <td>0</td>\n",
       "      <td>4647</td>\n",
       "      <td>100</td>\n",
       "      <td>176</td>\n",
       "      <td>69.500000</td>\n",
       "      <td>22.440001</td>\n",
       "    </tr>\n",
       "    <tr>\n",
       "      <th>473</th>\n",
       "      <td>17</td>\n",
       "      <td>男</td>\n",
       "      <td>5.19</td>\n",
       "      <td>40</td>\n",
       "      <td>9.55</td>\n",
       "      <td>50</td>\n",
       "      <td>210</td>\n",
       "      <td>66</td>\n",
       "      <td>15</td>\n",
       "      <td>80</td>\n",
       "      <td>6</td>\n",
       "      <td>50</td>\n",
       "      <td>7042</td>\n",
       "      <td>100</td>\n",
       "      <td>177</td>\n",
       "      <td>76.000000</td>\n",
       "      <td>24.260000</td>\n",
       "    </tr>\n",
       "    <tr>\n",
       "      <th>474</th>\n",
       "      <td>17</td>\n",
       "      <td>男</td>\n",
       "      <td>3.25</td>\n",
       "      <td>100</td>\n",
       "      <td>7.50</td>\n",
       "      <td>80</td>\n",
       "      <td>252</td>\n",
       "      <td>90</td>\n",
       "      <td>13</td>\n",
       "      <td>76</td>\n",
       "      <td>13</td>\n",
       "      <td>85</td>\n",
       "      <td>5755</td>\n",
       "      <td>100</td>\n",
       "      <td>181</td>\n",
       "      <td>65.000000</td>\n",
       "      <td>19.840000</td>\n",
       "    </tr>\n",
       "    <tr>\n",
       "      <th>475</th>\n",
       "      <td>17</td>\n",
       "      <td>男</td>\n",
       "      <td>4.39</td>\n",
       "      <td>62</td>\n",
       "      <td>7.81</td>\n",
       "      <td>76</td>\n",
       "      <td>208</td>\n",
       "      <td>66</td>\n",
       "      <td>14</td>\n",
       "      <td>78</td>\n",
       "      <td>11</td>\n",
       "      <td>76</td>\n",
       "      <td>5688</td>\n",
       "      <td>100</td>\n",
       "      <td>172</td>\n",
       "      <td>51.700001</td>\n",
       "      <td>17.480000</td>\n",
       "    </tr>\n",
       "    <tr>\n",
       "      <th>476</th>\n",
       "      <td>17</td>\n",
       "      <td>男</td>\n",
       "      <td>0.00</td>\n",
       "      <td>0</td>\n",
       "      <td>0.00</td>\n",
       "      <td>0</td>\n",
       "      <td>0</td>\n",
       "      <td>0</td>\n",
       "      <td>0</td>\n",
       "      <td>0</td>\n",
       "      <td>0</td>\n",
       "      <td>0</td>\n",
       "      <td>0</td>\n",
       "      <td>0</td>\n",
       "      <td>0</td>\n",
       "      <td>0.000000</td>\n",
       "      <td>0.000000</td>\n",
       "    </tr>\n",
       "  </tbody>\n",
       "</table>\n",
       "<p>477 rows × 17 columns</p>\n",
       "</div>"
      ],
      "text/plain": [
       "     班级 性别  男1000米跑  男1000米跑分数  男50米跑  男50米跑分数  男跳远  男跳远分数  男体前屈  男体前屈分数  男引体  \\\n",
       "0     1  男     4.13         72   8.88       66  195     60    12      74    1   \n",
       "1     1  男     4.16         70   7.70       78  225     74    11      74    7   \n",
       "2     1  男     4.09         74   8.45       70  218     70    14      78    1   \n",
       "3     1  男     4.21         68   8.05       74  206     64    13      76    1   \n",
       "4     1  男     3.44         85   7.52       78  210     66    13      76    9   \n",
       "..   .. ..      ...        ...    ...      ...  ...    ...   ...     ...  ...   \n",
       "472  17  男     4.23         68   8.27       72  208     66    10      72    0   \n",
       "473  17  男     5.19         40   9.55       50  210     66    15      80    6   \n",
       "474  17  男     3.25        100   7.50       80  252     90    13      76   13   \n",
       "475  17  男     4.39         62   7.81       76  208     66    14      78   11   \n",
       "476  17  男     0.00          0   0.00        0    0      0     0       0    0   \n",
       "\n",
       "     男引体分数  男肺活量  男肺活量分数   身高         体重        BMI  \n",
       "0        0  2785      62  170  72.599998  25.120001  \n",
       "1       60  3133      68  174  52.700001  17.410000  \n",
       "2        0  3901      80  169  46.500000  16.280001  \n",
       "3        0  4946     100  183  79.699997  23.799999  \n",
       "4       68  3538      74  171  54.700001  18.709999  \n",
       "..     ...   ...     ...  ...        ...        ...  \n",
       "472      0  4647     100  176  69.500000  22.440001  \n",
       "473     50  7042     100  177  76.000000  24.260000  \n",
       "474     85  5755     100  181  65.000000  19.840000  \n",
       "475     76  5688     100  172  51.700001  17.480000  \n",
       "476      0     0       0    0   0.000000   0.000000  \n",
       "\n",
       "[477 rows x 17 columns]"
      ]
     },
     "execution_count": 9,
     "metadata": {},
     "output_type": "execute_result"
    }
   ],
   "source": [
    "data_mens"
   ]
  },
  {
   "cell_type": "markdown",
   "metadata": {},
   "source": [
    "### 1、对男1000米跑、男引体进行等宽分箱操作，分成3份，并使用饼图绘制百分比\n",
    "\n"
   ]
  },
  {
   "cell_type": "markdown",
   "metadata": {},
   "source": [
    "####  1.1 男1000米跑"
   ]
  },
  {
   "cell_type": "code",
   "execution_count": 10,
   "metadata": {
    "ExecuteTime": {
     "end_time": "2021-07-26T06:45:27.712314Z",
     "start_time": "2021-07-26T06:45:27.703501Z"
    }
   },
   "outputs": [
    {
     "data": {
      "text/plain": [
       "(array([ 29,  68, 380]),\n",
       " array([  0.        ,  33.33333333,  66.66666667, 100.        ]))"
      ]
     },
     "execution_count": 10,
     "metadata": {},
     "output_type": "execute_result"
    }
   ],
   "source": [
    "np.histogram(data_mens['男1000米跑分数'], bins=3)"
   ]
  },
  {
   "cell_type": "code",
   "execution_count": 11,
   "metadata": {
    "ExecuteTime": {
     "end_time": "2021-07-26T06:45:42.164187Z",
     "start_time": "2021-07-26T06:45:41.929659Z"
    }
   },
   "outputs": [
    {
     "data": {
      "image/png": "[encoded data removed]",
      "text/plain": [
       "<Figure size 864x288 with 2 Axes>"
      ]
     },
     "metadata": {
      "needs_background": "light"
     },
     "output_type": "display_data"
    }
   ],
   "source": [
    "fig, ax = plt.subplots(1, 2, figsize=(12, 4))\n",
    "\n",
    "fig.suptitle('男生1000米跑成绩统计', fontproperties=my_font, fontsize=14)\n",
    "pie_labels = ['0-33.33', '33.34-66.66', '66.67-100']\n",
    "stats = np.histogram(data_mens['男1000米跑分数'], bins=3)[0]\n",
    "\n",
    "\n",
    "ax[0].hist(data_mens['男1000米跑分数'], \n",
    "           bins=3, alpha=0.7)\n",
    "ax[0].set_title('成绩分布', fontproperties=my_font)\n",
    "ax[0].set_xticks(np.histogram(data_mens['男1000米跑分数'], bins=3)[1])\n",
    "ax[0].grid(alpha=0.3)\n",
    "\n",
    "ax[1].pie(stats, \n",
    "          labels=pie_labels, \n",
    "          autopct=\"%0.2f%%\")\n",
    "# ax[1].legend()\n",
    "plt.show()"
   ]
  },
  {
   "cell_type": "markdown",
   "metadata": {},
   "source": [
    "#### 1.2 男引体"
   ]
  },
  {
   "cell_type": "code",
   "execution_count": 12,
   "metadata": {
    "ExecuteTime": {
     "end_time": "2021-07-26T06:45:53.356461Z",
     "start_time": "2021-07-26T06:45:53.350513Z"
    }
   },
   "outputs": [
    {
     "data": {
      "text/plain": [
       "(array([121, 137, 219]),\n",
       " array([  0.        ,  33.33333333,  66.66666667, 100.        ]))"
      ]
     },
     "execution_count": 12,
     "metadata": {},
     "output_type": "execute_result"
    }
   ],
   "source": [
    "np.histogram(data_mens['男引体分数'], bins=3)"
   ]
  },
  {
   "cell_type": "code",
   "execution_count": 14,
   "metadata": {
    "ExecuteTime": {
     "end_time": "2021-07-26T06:47:45.844469Z",
     "start_time": "2021-07-26T06:47:45.669167Z"
    }
   },
   "outputs": [
    {
     "data": {
      "image/png": "[encoded data removed]",
      "text/plain": [
       "<Figure size 864x288 with 2 Axes>"
      ]
     },
     "metadata": {
      "needs_background": "light"
     },
     "output_type": "display_data"
    }
   ],
   "source": [
    "fig, ax = plt.subplots(1, 2, figsize=(12, 4))\n",
    "\n",
    "fig.suptitle('男生引体分数统计', fontproperties=my_font, fontsize=14)\n",
    "pie_labels = ['0-33.33', '33.34-66.66', '66.67-100']\n",
    "stats = np.histogram(data_mens['男引体分数'], bins=3)[0]\n",
    "\n",
    "\n",
    "ax[0].hist(data_mens['男引体分数'], \n",
    "           bins=3, alpha=0.7)\n",
    "ax[0].set_title('成绩分布', fontproperties=my_font)\n",
    "ax[0].set_xticks(np.histogram(data_mens['男引体分数'], bins=3)[1])\n",
    "ax[0].grid(alpha=0.3)\n",
    "\n",
    "ax[1].pie(stats, \n",
    "          labels=pie_labels, \n",
    "          autopct=\"%0.2f%%\")\n",
    "# ax[1].legend()\n",
    "plt.show()"
   ]
  },
  {
   "cell_type": "code",
   "execution_count": null,
   "metadata": {},
   "outputs": [],
   "source": []
  },
  {
   "cell_type": "markdown",
   "metadata": {},
   "source": [
    "\n",
    "### 2、对女800米跑、女跳远进行直方图绘制统计各分数段人数，分成4份\n",
    "\n"
   ]
  },
  {
   "cell_type": "code",
   "execution_count": 15,
   "metadata": {
    "ExecuteTime": {
     "end_time": "2021-07-26T06:48:02.423501Z",
     "start_time": "2021-07-26T06:48:02.178650Z"
    }
   },
   "outputs": [
    {
     "data": {
      "image/png": "[encoded data removed]",
      "text/plain": [
       "<Figure size 864x288 with 2 Axes>"
      ]
     },
     "metadata": {
      "needs_background": "light"
     },
     "output_type": "display_data"
    }
   ],
   "source": [
    "fig, ax = plt.subplots(1,2, figsize=(12, 4))\n",
    "fig.suptitle('女生体测成绩统计', fontproperties=my_font, fontsize=14)\n",
    "\n",
    "ax[0].hist(data_womens['女800米跑分数'], \n",
    "           bins=4, \n",
    "           color='orange', \n",
    "           alpha=0.7)\n",
    "ax[0].set_title('800米跑成绩分布', fontproperties=my_font)\n",
    "\n",
    "ax[1].hist(data_womens['女跳远分数'], \n",
    "           bins=4, \n",
    "           color='orange', \n",
    "           alpha=0.8)\n",
    "ax[1].set_title('跳远成绩分布', fontproperties=my_font)\n",
    "\n",
    "for i in range(2):\n",
    "    ax[i].set_xlabel('分数', fontproperties=my_font)\n",
    "    ax[i].set_ylabel('人数', fontproperties=my_font)\n",
    "    ax[i].set_xticks(np.histogram(data_womens['女800米跑分数'], bins=4)[1])\n",
    "    ax[i].grid(alpha=0.3)\n",
    "\n",
    "plt.show()"
   ]
  },
  {
   "cell_type": "code",
   "execution_count": null,
   "metadata": {},
   "outputs": [],
   "source": []
  },
  {
   "cell_type": "markdown",
   "metadata": {},
   "source": [
    "### 3、使用嵌套饼图对比男女生体重指数进行比例统计，分为正常、低体重、超重、肥胖(男女生体重指数参考如下)"
   ]
  },
  {
   "cell_type": "code",
   "execution_count": 16,
   "metadata": {
    "ExecuteTime": {
     "end_time": "2021-07-26T06:48:04.867965Z",
     "start_time": "2021-07-26T06:48:04.861361Z"
    }
   },
   "outputs": [],
   "source": [
    "def label_bmi_m(bmi):\n",
    "    label = ''\n",
    "    if bmi <= 16.4:\n",
    "        label = '低体重'\n",
    "    if 16.5 <= bmi <= 23.2:\n",
    "        label = '正常'\n",
    "    if 23.3 <= bmi <= 26.3:\n",
    "        label = '超重'\n",
    "    if bmi >= 26.4:\n",
    "        label = '肥胖'\n",
    "    return label\n",
    "\n",
    "data_mens['bmi_label'] = data_mens['BMI'].apply(label_bmi_m)"
   ]
  },
  {
   "cell_type": "code",
   "execution_count": 17,
   "metadata": {
    "ExecuteTime": {
     "end_time": "2021-07-26T06:48:05.357273Z",
     "start_time": "2021-07-26T06:48:05.351157Z"
    }
   },
   "outputs": [],
   "source": [
    "def label_bmi_f(bmi):\n",
    "    label = ''\n",
    "    bmi = int(bmi)\n",
    "    if bmi <= 16.4:\n",
    "        label = '低体重'\n",
    "    if 16.5 <= bmi <= 22.7:\n",
    "        label = '正常'\n",
    "    if 22.8 <= bmi <= 25.2:\n",
    "        label = '超重'\n",
    "    if bmi >= 25.3:\n",
    "        label = '肥胖'\n",
    "    return label\n",
    "\n",
    "data_womens['bmi_label'] = data_womens['BMI'].apply(label_bmi_f)"
   ]
  },
  {
   "cell_type": "code",
   "execution_count": 18,
   "metadata": {
    "ExecuteTime": {
     "end_time": "2021-07-26T06:48:06.223125Z",
     "start_time": "2021-07-26T06:48:06.214793Z"
    }
   },
   "outputs": [
    {
     "data": {
      "text/plain": [
       "0      正常\n",
       "1      超重\n",
       "2      超重\n",
       "3      正常\n",
       "4      正常\n",
       "       ..\n",
       "588    正常\n",
       "589    正常\n",
       "590    正常\n",
       "591    正常\n",
       "592    正常\n",
       "Name: bmi_label, Length: 593, dtype: object"
      ]
     },
     "execution_count": 18,
     "metadata": {},
     "output_type": "execute_result"
    }
   ],
   "source": [
    "data_womens['bmi_label']"
   ]
  },
  {
   "cell_type": "code",
   "execution_count": 19,
   "metadata": {
    "ExecuteTime": {
     "end_time": "2021-07-26T06:48:07.093615Z",
     "start_time": "2021-07-26T06:48:06.897889Z"
    }
   },
   "outputs": [
    {
     "data": {
      "image/png": "[encoded data removed]",
      "text/plain": [
       "<Figure size 720x720 with 1 Axes>"
      ]
     },
     "metadata": {},
     "output_type": "display_data"
    }
   ],
   "source": [
    "plt.figure(figsize=(10,10))\n",
    "plt.title('男女生BMI分布', fontproperties=my_font, fontsize=16, y=0.92)\n",
    "p1 = data_mens.groupby(by='bmi_label').size()\n",
    "p2 = data_womens.groupby(by='bmi_label').size()\n",
    "\n",
    "plt.pie(p1, \n",
    "        radius=1, \n",
    "        autopct=\"%0.2f%%\", \n",
    "        pctdistance=0.85,\n",
    "        labels=data_mens['bmi_label'].unique(), \n",
    "        wedgeprops={'linewidth': 5, 'width': 0.3, 'edgecolor': 'white'}, \n",
    "        textprops={'family': 'Kaiti SC', 'size': 14})\n",
    "\n",
    "plt.pie(p2, \n",
    "        radius=0.5, \n",
    "        autopct=\"%0.2f%%\", \n",
    "        pctdistance=0.7,\n",
    "        labels=data_womens['bmi_label'].unique(), \n",
    "        wedgeprops={'linewidth': 2, 'width': 0.4, 'edgecolor': 'white'}, \n",
    "        textprops={'family': 'Kaiti SC', 'size': 14})\n",
    "\n",
    "plt.show()"
   ]
  },
  {
   "cell_type": "code",
   "execution_count": null,
   "metadata": {},
   "outputs": [],
   "source": []
  }
 ],
 "metadata": {
  "kernelspec": {
   "display_name": "Python 3",
   "language": "python",
   "name": "python3"
  },
  "language_info": {
   "codemirror_mode": {
    "name": "ipython",
    "version": 3
   },
   "file_extension": ".py",
   "mimetype": "text/x-python",
   "name": "python",
   "nbconvert_exporter": "python",
   "pygments_lexer": "ipython3",
   "version": "3.8.3"
  },
  "toc": {
   "base_numbering": 1,
   "nav_menu": {},
   "number_sections": false,
   "sideBar": true,
   "skip_h1_title": false,
   "title_cell": "Table of Contents",
   "title_sidebar": "Contents",
   "toc_cell": false,
   "toc_position": {},
   "toc_section_display": true,
   "toc_window_display": true
  }
 },
 "nbformat": 4,
 "nbformat_minor": 4
}
