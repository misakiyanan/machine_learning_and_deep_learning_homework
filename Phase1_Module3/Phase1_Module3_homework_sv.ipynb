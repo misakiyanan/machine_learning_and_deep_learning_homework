{
 "cells": [
  {
   "cell_type": "code",
   "execution_count": 1,
   "metadata": {
    "ExecuteTime": {
     "end_time": "2021-07-23T05:48:04.683775Z",
     "start_time": "2021-07-23T05:48:04.162331Z"
    }
   },
   "outputs": [],
   "source": [
    "import pandas as pd\n",
    "import numpy as np"
   ]
  },
  {
   "cell_type": "markdown",
   "metadata": {},
   "source": [
    "### 1、数据加载\n",
    "pd.read_excel('./18级高一体测成绩汇总.xls')默认加载第一个工作表"
   ]
  },
  {
   "cell_type": "code",
   "execution_count": 2,
   "metadata": {
    "ExecuteTime": {
     "end_time": "2021-07-23T05:48:04.765193Z",
     "start_time": "2021-07-23T05:48:04.686436Z"
    }
   },
   "outputs": [
    {
     "data": {
      "text/html": [
       "<div>\n",
       "<style scoped>\n",
       "    .dataframe tbody tr th:only-of-type {\n",
       "        vertical-align: middle;\n",
       "    }\n",
       "\n",
       "    .dataframe tbody tr th {\n",
       "        vertical-align: top;\n",
       "    }\n",
       "\n",
       "    .dataframe thead th {\n",
       "        text-align: right;\n",
       "    }\n",
       "</style>\n",
       "<table border=\"1\" class=\"dataframe\">\n",
       "  <thead>\n",
       "    <tr style=\"text-align: right;\">\n",
       "      <th></th>\n",
       "      <th>班级</th>\n",
       "      <th>性别</th>\n",
       "      <th>男1000米跑</th>\n",
       "      <th>男50米跑</th>\n",
       "      <th>男跳远</th>\n",
       "      <th>男体前屈</th>\n",
       "      <th>男引体</th>\n",
       "      <th>男肺活量</th>\n",
       "      <th>身高</th>\n",
       "      <th>体重</th>\n",
       "      <th>BMI</th>\n",
       "    </tr>\n",
       "  </thead>\n",
       "  <tbody>\n",
       "    <tr>\n",
       "      <th>0</th>\n",
       "      <td>1</td>\n",
       "      <td>男</td>\n",
       "      <td>4'13</td>\n",
       "      <td>8.88</td>\n",
       "      <td>195.0</td>\n",
       "      <td>12</td>\n",
       "      <td>1</td>\n",
       "      <td>2785</td>\n",
       "      <td>170.0</td>\n",
       "      <td>72.6</td>\n",
       "      <td>0</td>\n",
       "    </tr>\n",
       "    <tr>\n",
       "      <th>1</th>\n",
       "      <td>1</td>\n",
       "      <td>男</td>\n",
       "      <td>4'16</td>\n",
       "      <td>7.70</td>\n",
       "      <td>225.0</td>\n",
       "      <td>11</td>\n",
       "      <td>7</td>\n",
       "      <td>3133</td>\n",
       "      <td>174.0</td>\n",
       "      <td>52.7</td>\n",
       "      <td>0</td>\n",
       "    </tr>\n",
       "    <tr>\n",
       "      <th>2</th>\n",
       "      <td>1</td>\n",
       "      <td>男</td>\n",
       "      <td>4'09</td>\n",
       "      <td>8.45</td>\n",
       "      <td>218.0</td>\n",
       "      <td>14</td>\n",
       "      <td>1</td>\n",
       "      <td>3901</td>\n",
       "      <td>169.0</td>\n",
       "      <td>46.5</td>\n",
       "      <td>0</td>\n",
       "    </tr>\n",
       "    <tr>\n",
       "      <th>3</th>\n",
       "      <td>1</td>\n",
       "      <td>男</td>\n",
       "      <td>4'21</td>\n",
       "      <td>8.05</td>\n",
       "      <td>206.0</td>\n",
       "      <td>13</td>\n",
       "      <td>1</td>\n",
       "      <td>4946</td>\n",
       "      <td>183.0</td>\n",
       "      <td>79.7</td>\n",
       "      <td>0</td>\n",
       "    </tr>\n",
       "    <tr>\n",
       "      <th>4</th>\n",
       "      <td>1</td>\n",
       "      <td>男</td>\n",
       "      <td>3'44</td>\n",
       "      <td>7.52</td>\n",
       "      <td>210.0</td>\n",
       "      <td>13</td>\n",
       "      <td>9</td>\n",
       "      <td>3538</td>\n",
       "      <td>171.0</td>\n",
       "      <td>54.7</td>\n",
       "      <td>0</td>\n",
       "    </tr>\n",
       "    <tr>\n",
       "      <th>...</th>\n",
       "      <td>...</td>\n",
       "      <td>...</td>\n",
       "      <td>...</td>\n",
       "      <td>...</td>\n",
       "      <td>...</td>\n",
       "      <td>...</td>\n",
       "      <td>...</td>\n",
       "      <td>...</td>\n",
       "      <td>...</td>\n",
       "      <td>...</td>\n",
       "      <td>...</td>\n",
       "    </tr>\n",
       "    <tr>\n",
       "      <th>472</th>\n",
       "      <td>17</td>\n",
       "      <td>男</td>\n",
       "      <td>4'23</td>\n",
       "      <td>8.27</td>\n",
       "      <td>208.0</td>\n",
       "      <td>10</td>\n",
       "      <td>0</td>\n",
       "      <td>4647</td>\n",
       "      <td>176.0</td>\n",
       "      <td>69.5</td>\n",
       "      <td>0</td>\n",
       "    </tr>\n",
       "    <tr>\n",
       "      <th>473</th>\n",
       "      <td>17</td>\n",
       "      <td>男</td>\n",
       "      <td>5'19</td>\n",
       "      <td>9.55</td>\n",
       "      <td>210.0</td>\n",
       "      <td>15</td>\n",
       "      <td>6</td>\n",
       "      <td>7042</td>\n",
       "      <td>177.0</td>\n",
       "      <td>76.0</td>\n",
       "      <td>0</td>\n",
       "    </tr>\n",
       "    <tr>\n",
       "      <th>474</th>\n",
       "      <td>17</td>\n",
       "      <td>男</td>\n",
       "      <td>3'25</td>\n",
       "      <td>7.50</td>\n",
       "      <td>252.0</td>\n",
       "      <td>13</td>\n",
       "      <td>13</td>\n",
       "      <td>5755</td>\n",
       "      <td>181.0</td>\n",
       "      <td>65.0</td>\n",
       "      <td>0</td>\n",
       "    </tr>\n",
       "    <tr>\n",
       "      <th>475</th>\n",
       "      <td>17</td>\n",
       "      <td>男</td>\n",
       "      <td>4'39</td>\n",
       "      <td>7.81</td>\n",
       "      <td>208.0</td>\n",
       "      <td>14</td>\n",
       "      <td>11</td>\n",
       "      <td>5688</td>\n",
       "      <td>172.0</td>\n",
       "      <td>51.7</td>\n",
       "      <td>0</td>\n",
       "    </tr>\n",
       "    <tr>\n",
       "      <th>476</th>\n",
       "      <td>17</td>\n",
       "      <td>男</td>\n",
       "      <td>0</td>\n",
       "      <td>0.00</td>\n",
       "      <td>0.0</td>\n",
       "      <td>0</td>\n",
       "      <td>0</td>\n",
       "      <td>0</td>\n",
       "      <td>0.0</td>\n",
       "      <td>0.0</td>\n",
       "      <td>0</td>\n",
       "    </tr>\n",
       "  </tbody>\n",
       "</table>\n",
       "<p>477 rows × 11 columns</p>\n",
       "</div>"
      ],
      "text/plain": [
       "     班级 性别 男1000米跑  男50米跑    男跳远  男体前屈  男引体  男肺活量     身高    体重  BMI\n",
       "0     1  男    4'13   8.88  195.0    12    1  2785  170.0  72.6    0\n",
       "1     1  男    4'16   7.70  225.0    11    7  3133  174.0  52.7    0\n",
       "2     1  男    4'09   8.45  218.0    14    1  3901  169.0  46.5    0\n",
       "3     1  男    4'21   8.05  206.0    13    1  4946  183.0  79.7    0\n",
       "4     1  男    3'44   7.52  210.0    13    9  3538  171.0  54.7    0\n",
       "..   .. ..     ...    ...    ...   ...  ...   ...    ...   ...  ...\n",
       "472  17  男    4'23   8.27  208.0    10    0  4647  176.0  69.5    0\n",
       "473  17  男    5'19   9.55  210.0    15    6  7042  177.0  76.0    0\n",
       "474  17  男    3'25   7.50  252.0    13   13  5755  181.0  65.0    0\n",
       "475  17  男    4'39   7.81  208.0    14   11  5688  172.0  51.7    0\n",
       "476  17  男       0   0.00    0.0     0    0     0    0.0   0.0    0\n",
       "\n",
       "[477 rows x 11 columns]"
      ]
     },
     "execution_count": 2,
     "metadata": {},
     "output_type": "execute_result"
    }
   ],
   "source": [
    "data_mens = pd.read_excel('./18级高一体测成绩汇总.xls')\n",
    "data_mens"
   ]
  },
  {
   "cell_type": "code",
   "execution_count": 3,
   "metadata": {
    "ExecuteTime": {
     "end_time": "2021-07-23T05:48:04.777914Z",
     "start_time": "2021-07-23T05:48:04.767906Z"
    }
   },
   "outputs": [
    {
     "name": "stdout",
     "output_type": "stream",
     "text": [
      "<class 'pandas.core.frame.DataFrame'>\n",
      "RangeIndex: 477 entries, 0 to 476\n",
      "Data columns (total 11 columns):\n",
      " #   Column   Non-Null Count  Dtype  \n",
      "---  ------   --------------  -----  \n",
      " 0   班级       477 non-null    int64  \n",
      " 1   性别       477 non-null    object \n",
      " 2   男1000米跑  477 non-null    object \n",
      " 3   男50米跑    477 non-null    float64\n",
      " 4   男跳远      477 non-null    float64\n",
      " 5   男体前屈     477 non-null    int64  \n",
      " 6   男引体      477 non-null    int64  \n",
      " 7   男肺活量     477 non-null    int64  \n",
      " 8   身高       477 non-null    float64\n",
      " 9   体重       477 non-null    float64\n",
      " 10  BMI      477 non-null    int64  \n",
      "dtypes: float64(4), int64(5), object(2)\n",
      "memory usage: 41.1+ KB\n"
     ]
    }
   ],
   "source": [
    "data_mens.info()"
   ]
  },
  {
   "cell_type": "markdown",
   "metadata": {},
   "source": [
    "### 2、数据加载\n",
    "pd.read_excel('./18级高一体测成绩汇总.xls',sheet_name = 1)指定加载第二个工作表"
   ]
  },
  {
   "cell_type": "code",
   "execution_count": 4,
   "metadata": {
    "ExecuteTime": {
     "end_time": "2021-07-23T05:48:05.043646Z",
     "start_time": "2021-07-23T05:48:04.969231Z"
    }
   },
   "outputs": [
    {
     "data": {
      "text/html": [
       "<div>\n",
       "<style scoped>\n",
       "    .dataframe tbody tr th:only-of-type {\n",
       "        vertical-align: middle;\n",
       "    }\n",
       "\n",
       "    .dataframe tbody tr th {\n",
       "        vertical-align: top;\n",
       "    }\n",
       "\n",
       "    .dataframe thead th {\n",
       "        text-align: right;\n",
       "    }\n",
       "</style>\n",
       "<table border=\"1\" class=\"dataframe\">\n",
       "  <thead>\n",
       "    <tr style=\"text-align: right;\">\n",
       "      <th></th>\n",
       "      <th>班级</th>\n",
       "      <th>性别</th>\n",
       "      <th>女800米跑</th>\n",
       "      <th>女50米跑</th>\n",
       "      <th>女跳远</th>\n",
       "      <th>女体前屈</th>\n",
       "      <th>女仰卧</th>\n",
       "      <th>女肺活量</th>\n",
       "      <th>身高</th>\n",
       "      <th>体重</th>\n",
       "      <th>BMI</th>\n",
       "    </tr>\n",
       "  </thead>\n",
       "  <tbody>\n",
       "    <tr>\n",
       "      <th>0</th>\n",
       "      <td>1</td>\n",
       "      <td>女</td>\n",
       "      <td>3.22</td>\n",
       "      <td>9.32</td>\n",
       "      <td>185.0</td>\n",
       "      <td>16</td>\n",
       "      <td>48</td>\n",
       "      <td>3775</td>\n",
       "      <td>163.0</td>\n",
       "      <td>51.3</td>\n",
       "      <td>0</td>\n",
       "    </tr>\n",
       "    <tr>\n",
       "      <th>1</th>\n",
       "      <td>1</td>\n",
       "      <td>女</td>\n",
       "      <td>4.59</td>\n",
       "      <td>11.44</td>\n",
       "      <td>148.0</td>\n",
       "      <td>9</td>\n",
       "      <td>29</td>\n",
       "      <td>3683</td>\n",
       "      <td>163.0</td>\n",
       "      <td>66.6</td>\n",
       "      <td>0</td>\n",
       "    </tr>\n",
       "    <tr>\n",
       "      <th>2</th>\n",
       "      <td>1</td>\n",
       "      <td>女</td>\n",
       "      <td>3.46</td>\n",
       "      <td>13.40</td>\n",
       "      <td>150.0</td>\n",
       "      <td>7</td>\n",
       "      <td>40</td>\n",
       "      <td>3331</td>\n",
       "      <td>157.0</td>\n",
       "      <td>60.0</td>\n",
       "      <td>0</td>\n",
       "    </tr>\n",
       "    <tr>\n",
       "      <th>3</th>\n",
       "      <td>1</td>\n",
       "      <td>女</td>\n",
       "      <td>3.39</td>\n",
       "      <td>9.52</td>\n",
       "      <td>172.0</td>\n",
       "      <td>21</td>\n",
       "      <td>46</td>\n",
       "      <td>3701</td>\n",
       "      <td>160.0</td>\n",
       "      <td>50.7</td>\n",
       "      <td>0</td>\n",
       "    </tr>\n",
       "    <tr>\n",
       "      <th>4</th>\n",
       "      <td>1</td>\n",
       "      <td>女</td>\n",
       "      <td>3.43</td>\n",
       "      <td>9.79</td>\n",
       "      <td>145.0</td>\n",
       "      <td>8</td>\n",
       "      <td>34</td>\n",
       "      <td>3592</td>\n",
       "      <td>167.0</td>\n",
       "      <td>63.9</td>\n",
       "      <td>0</td>\n",
       "    </tr>\n",
       "    <tr>\n",
       "      <th>...</th>\n",
       "      <td>...</td>\n",
       "      <td>...</td>\n",
       "      <td>...</td>\n",
       "      <td>...</td>\n",
       "      <td>...</td>\n",
       "      <td>...</td>\n",
       "      <td>...</td>\n",
       "      <td>...</td>\n",
       "      <td>...</td>\n",
       "      <td>...</td>\n",
       "      <td>...</td>\n",
       "    </tr>\n",
       "    <tr>\n",
       "      <th>588</th>\n",
       "      <td>17</td>\n",
       "      <td>女</td>\n",
       "      <td>3.51</td>\n",
       "      <td>9.60</td>\n",
       "      <td>150.0</td>\n",
       "      <td>24</td>\n",
       "      <td>41</td>\n",
       "      <td>2255</td>\n",
       "      <td>158.0</td>\n",
       "      <td>49.0</td>\n",
       "      <td>0</td>\n",
       "    </tr>\n",
       "    <tr>\n",
       "      <th>589</th>\n",
       "      <td>17</td>\n",
       "      <td>女</td>\n",
       "      <td>4.00</td>\n",
       "      <td>10.18</td>\n",
       "      <td>150.0</td>\n",
       "      <td>13</td>\n",
       "      <td>36</td>\n",
       "      <td>2937</td>\n",
       "      <td>161.0</td>\n",
       "      <td>55.7</td>\n",
       "      <td>0</td>\n",
       "    </tr>\n",
       "    <tr>\n",
       "      <th>590</th>\n",
       "      <td>17</td>\n",
       "      <td>女</td>\n",
       "      <td>3.45</td>\n",
       "      <td>10.18</td>\n",
       "      <td>152.0</td>\n",
       "      <td>15</td>\n",
       "      <td>35</td>\n",
       "      <td>2592</td>\n",
       "      <td>165.0</td>\n",
       "      <td>48.6</td>\n",
       "      <td>0</td>\n",
       "    </tr>\n",
       "    <tr>\n",
       "      <th>591</th>\n",
       "      <td>17</td>\n",
       "      <td>女</td>\n",
       "      <td>4.01</td>\n",
       "      <td>9.67</td>\n",
       "      <td>165.0</td>\n",
       "      <td>10</td>\n",
       "      <td>41</td>\n",
       "      <td>1829</td>\n",
       "      <td>154.0</td>\n",
       "      <td>43.6</td>\n",
       "      <td>0</td>\n",
       "    </tr>\n",
       "    <tr>\n",
       "      <th>592</th>\n",
       "      <td>17</td>\n",
       "      <td>女</td>\n",
       "      <td>4.48</td>\n",
       "      <td>9.09</td>\n",
       "      <td>180.0</td>\n",
       "      <td>10</td>\n",
       "      <td>46</td>\n",
       "      <td>2962</td>\n",
       "      <td>162.0</td>\n",
       "      <td>55.3</td>\n",
       "      <td>0</td>\n",
       "    </tr>\n",
       "  </tbody>\n",
       "</table>\n",
       "<p>593 rows × 11 columns</p>\n",
       "</div>"
      ],
      "text/plain": [
       "     班级 性别  女800米跑  女50米跑    女跳远  女体前屈  女仰卧  女肺活量     身高    体重  BMI\n",
       "0     1  女    3.22   9.32  185.0    16   48  3775  163.0  51.3    0\n",
       "1     1  女    4.59  11.44  148.0     9   29  3683  163.0  66.6    0\n",
       "2     1  女    3.46  13.40  150.0     7   40  3331  157.0  60.0    0\n",
       "3     1  女    3.39   9.52  172.0    21   46  3701  160.0  50.7    0\n",
       "4     1  女    3.43   9.79  145.0     8   34  3592  167.0  63.9    0\n",
       "..   .. ..     ...    ...    ...   ...  ...   ...    ...   ...  ...\n",
       "588  17  女    3.51   9.60  150.0    24   41  2255  158.0  49.0    0\n",
       "589  17  女    4.00  10.18  150.0    13   36  2937  161.0  55.7    0\n",
       "590  17  女    3.45  10.18  152.0    15   35  2592  165.0  48.6    0\n",
       "591  17  女    4.01   9.67  165.0    10   41  1829  154.0  43.6    0\n",
       "592  17  女    4.48   9.09  180.0    10   46  2962  162.0  55.3    0\n",
       "\n",
       "[593 rows x 11 columns]"
      ]
     },
     "execution_count": 4,
     "metadata": {},
     "output_type": "execute_result"
    }
   ],
   "source": [
    "data_womens = pd.read_excel('./18级高一体测成绩汇总.xls',sheet_name = 1)\n",
    "data_womens"
   ]
  },
  {
   "cell_type": "markdown",
   "metadata": {},
   "source": [
    "### 3、评分标准加载\n",
    "pd.read_excel('./体侧成绩评分表.xls',header = [0,1])，header=[0,1]表示多层列索引"
   ]
  },
  {
   "cell_type": "code",
   "execution_count": 5,
   "metadata": {
    "ExecuteTime": {
     "end_time": "2021-07-23T05:48:05.878973Z",
     "start_time": "2021-07-23T05:48:05.830142Z"
    }
   },
   "outputs": [
    {
     "data": {
      "text/html": [
       "<div>\n",
       "<style scoped>\n",
       "    .dataframe tbody tr th:only-of-type {\n",
       "        vertical-align: middle;\n",
       "    }\n",
       "\n",
       "    .dataframe tbody tr th {\n",
       "        vertical-align: top;\n",
       "    }\n",
       "\n",
       "    .dataframe thead tr th {\n",
       "        text-align: left;\n",
       "    }\n",
       "</style>\n",
       "<table border=\"1\" class=\"dataframe\">\n",
       "  <thead>\n",
       "    <tr>\n",
       "      <th></th>\n",
       "      <th colspan=\"2\" halign=\"left\">男肺活量</th>\n",
       "      <th colspan=\"2\" halign=\"left\">女肺活量</th>\n",
       "      <th colspan=\"2\" halign=\"left\">男50米跑</th>\n",
       "      <th colspan=\"2\" halign=\"left\">女50米跑</th>\n",
       "      <th colspan=\"2\" halign=\"left\">男体前屈</th>\n",
       "      <th>...</th>\n",
       "      <th colspan=\"2\" halign=\"left\">女跳远</th>\n",
       "      <th colspan=\"2\" halign=\"left\">男引体</th>\n",
       "      <th colspan=\"2\" halign=\"left\">女仰卧</th>\n",
       "      <th colspan=\"2\" halign=\"left\">男1000米跑</th>\n",
       "      <th colspan=\"2\" halign=\"left\">女800米跑</th>\n",
       "    </tr>\n",
       "    <tr>\n",
       "      <th></th>\n",
       "      <th>成绩</th>\n",
       "      <th>分数</th>\n",
       "      <th>成绩</th>\n",
       "      <th>分数</th>\n",
       "      <th>成绩</th>\n",
       "      <th>分数</th>\n",
       "      <th>成绩</th>\n",
       "      <th>分数</th>\n",
       "      <th>成绩</th>\n",
       "      <th>分数</th>\n",
       "      <th>...</th>\n",
       "      <th>成绩</th>\n",
       "      <th>分数</th>\n",
       "      <th>成绩</th>\n",
       "      <th>分数</th>\n",
       "      <th>成绩</th>\n",
       "      <th>分数</th>\n",
       "      <th>成绩</th>\n",
       "      <th>分数</th>\n",
       "      <th>成绩</th>\n",
       "      <th>分数</th>\n",
       "    </tr>\n",
       "  </thead>\n",
       "  <tbody>\n",
       "    <tr>\n",
       "      <th>0</th>\n",
       "      <td>4540</td>\n",
       "      <td>100</td>\n",
       "      <td>3150</td>\n",
       "      <td>100</td>\n",
       "      <td>7.1</td>\n",
       "      <td>100</td>\n",
       "      <td>7.8</td>\n",
       "      <td>100</td>\n",
       "      <td>23.6</td>\n",
       "      <td>100</td>\n",
       "      <td>...</td>\n",
       "      <td>204</td>\n",
       "      <td>100</td>\n",
       "      <td>16.0</td>\n",
       "      <td>100</td>\n",
       "      <td>53</td>\n",
       "      <td>100</td>\n",
       "      <td>3'30\"</td>\n",
       "      <td>100</td>\n",
       "      <td>3'24\"</td>\n",
       "      <td>100</td>\n",
       "    </tr>\n",
       "    <tr>\n",
       "      <th>1</th>\n",
       "      <td>4420</td>\n",
       "      <td>95</td>\n",
       "      <td>3100</td>\n",
       "      <td>95</td>\n",
       "      <td>7.2</td>\n",
       "      <td>95</td>\n",
       "      <td>7.9</td>\n",
       "      <td>95</td>\n",
       "      <td>21.5</td>\n",
       "      <td>95</td>\n",
       "      <td>...</td>\n",
       "      <td>198</td>\n",
       "      <td>95</td>\n",
       "      <td>15.0</td>\n",
       "      <td>95</td>\n",
       "      <td>51</td>\n",
       "      <td>95</td>\n",
       "      <td>3'35\"</td>\n",
       "      <td>95</td>\n",
       "      <td>3'30\"</td>\n",
       "      <td>95</td>\n",
       "    </tr>\n",
       "    <tr>\n",
       "      <th>2</th>\n",
       "      <td>4300</td>\n",
       "      <td>90</td>\n",
       "      <td>3050</td>\n",
       "      <td>90</td>\n",
       "      <td>7.3</td>\n",
       "      <td>90</td>\n",
       "      <td>8.0</td>\n",
       "      <td>90</td>\n",
       "      <td>19.4</td>\n",
       "      <td>90</td>\n",
       "      <td>...</td>\n",
       "      <td>192</td>\n",
       "      <td>90</td>\n",
       "      <td>14.0</td>\n",
       "      <td>90</td>\n",
       "      <td>49</td>\n",
       "      <td>90</td>\n",
       "      <td>3'40\"</td>\n",
       "      <td>90</td>\n",
       "      <td>3'36\"</td>\n",
       "      <td>90</td>\n",
       "    </tr>\n",
       "    <tr>\n",
       "      <th>3</th>\n",
       "      <td>4050</td>\n",
       "      <td>85</td>\n",
       "      <td>2900</td>\n",
       "      <td>85</td>\n",
       "      <td>7.4</td>\n",
       "      <td>85</td>\n",
       "      <td>8.3</td>\n",
       "      <td>85</td>\n",
       "      <td>17.2</td>\n",
       "      <td>85</td>\n",
       "      <td>...</td>\n",
       "      <td>185</td>\n",
       "      <td>85</td>\n",
       "      <td>13.0</td>\n",
       "      <td>85</td>\n",
       "      <td>46</td>\n",
       "      <td>85</td>\n",
       "      <td>3'47\"</td>\n",
       "      <td>85</td>\n",
       "      <td>3'43\"</td>\n",
       "      <td>85</td>\n",
       "    </tr>\n",
       "    <tr>\n",
       "      <th>4</th>\n",
       "      <td>3800</td>\n",
       "      <td>80</td>\n",
       "      <td>2750</td>\n",
       "      <td>80</td>\n",
       "      <td>7.5</td>\n",
       "      <td>80</td>\n",
       "      <td>8.6</td>\n",
       "      <td>80</td>\n",
       "      <td>15.0</td>\n",
       "      <td>80</td>\n",
       "      <td>...</td>\n",
       "      <td>178</td>\n",
       "      <td>80</td>\n",
       "      <td>12.0</td>\n",
       "      <td>80</td>\n",
       "      <td>43</td>\n",
       "      <td>80</td>\n",
       "      <td>3'55\"</td>\n",
       "      <td>80</td>\n",
       "      <td>3'50\"</td>\n",
       "      <td>80</td>\n",
       "    </tr>\n",
       "    <tr>\n",
       "      <th>5</th>\n",
       "      <td>3680</td>\n",
       "      <td>78</td>\n",
       "      <td>2650</td>\n",
       "      <td>78</td>\n",
       "      <td>7.7</td>\n",
       "      <td>78</td>\n",
       "      <td>8.8</td>\n",
       "      <td>78</td>\n",
       "      <td>13.6</td>\n",
       "      <td>78</td>\n",
       "      <td>...</td>\n",
       "      <td>175</td>\n",
       "      <td>78</td>\n",
       "      <td>NaN</td>\n",
       "      <td>78</td>\n",
       "      <td>41</td>\n",
       "      <td>78</td>\n",
       "      <td>4'00\"</td>\n",
       "      <td>78</td>\n",
       "      <td>3'55\"</td>\n",
       "      <td>78</td>\n",
       "    </tr>\n",
       "    <tr>\n",
       "      <th>6</th>\n",
       "      <td>3560</td>\n",
       "      <td>76</td>\n",
       "      <td>2550</td>\n",
       "      <td>76</td>\n",
       "      <td>7.9</td>\n",
       "      <td>76</td>\n",
       "      <td>9.0</td>\n",
       "      <td>76</td>\n",
       "      <td>12.2</td>\n",
       "      <td>76</td>\n",
       "      <td>...</td>\n",
       "      <td>172</td>\n",
       "      <td>76</td>\n",
       "      <td>11.0</td>\n",
       "      <td>76</td>\n",
       "      <td>39</td>\n",
       "      <td>76</td>\n",
       "      <td>4'05\"</td>\n",
       "      <td>76</td>\n",
       "      <td>4'00\"</td>\n",
       "      <td>76</td>\n",
       "    </tr>\n",
       "    <tr>\n",
       "      <th>7</th>\n",
       "      <td>3440</td>\n",
       "      <td>74</td>\n",
       "      <td>2450</td>\n",
       "      <td>74</td>\n",
       "      <td>8.1</td>\n",
       "      <td>74</td>\n",
       "      <td>9.2</td>\n",
       "      <td>74</td>\n",
       "      <td>10.8</td>\n",
       "      <td>74</td>\n",
       "      <td>...</td>\n",
       "      <td>169</td>\n",
       "      <td>74</td>\n",
       "      <td>NaN</td>\n",
       "      <td>74</td>\n",
       "      <td>37</td>\n",
       "      <td>74</td>\n",
       "      <td>4'10\"</td>\n",
       "      <td>74</td>\n",
       "      <td>4'05\"</td>\n",
       "      <td>74</td>\n",
       "    </tr>\n",
       "    <tr>\n",
       "      <th>8</th>\n",
       "      <td>3320</td>\n",
       "      <td>72</td>\n",
       "      <td>2350</td>\n",
       "      <td>72</td>\n",
       "      <td>8.3</td>\n",
       "      <td>72</td>\n",
       "      <td>9.4</td>\n",
       "      <td>72</td>\n",
       "      <td>9.4</td>\n",
       "      <td>72</td>\n",
       "      <td>...</td>\n",
       "      <td>166</td>\n",
       "      <td>72</td>\n",
       "      <td>10.0</td>\n",
       "      <td>72</td>\n",
       "      <td>35</td>\n",
       "      <td>72</td>\n",
       "      <td>4'15\"</td>\n",
       "      <td>72</td>\n",
       "      <td>4'10\"</td>\n",
       "      <td>72</td>\n",
       "    </tr>\n",
       "    <tr>\n",
       "      <th>9</th>\n",
       "      <td>3200</td>\n",
       "      <td>70</td>\n",
       "      <td>2250</td>\n",
       "      <td>70</td>\n",
       "      <td>8.5</td>\n",
       "      <td>70</td>\n",
       "      <td>9.6</td>\n",
       "      <td>70</td>\n",
       "      <td>8.0</td>\n",
       "      <td>70</td>\n",
       "      <td>...</td>\n",
       "      <td>163</td>\n",
       "      <td>70</td>\n",
       "      <td>NaN</td>\n",
       "      <td>70</td>\n",
       "      <td>33</td>\n",
       "      <td>70</td>\n",
       "      <td>4'20\"</td>\n",
       "      <td>70</td>\n",
       "      <td>4'15\"</td>\n",
       "      <td>70</td>\n",
       "    </tr>\n",
       "    <tr>\n",
       "      <th>10</th>\n",
       "      <td>3080</td>\n",
       "      <td>68</td>\n",
       "      <td>2150</td>\n",
       "      <td>68</td>\n",
       "      <td>8.7</td>\n",
       "      <td>68</td>\n",
       "      <td>9.8</td>\n",
       "      <td>68</td>\n",
       "      <td>6.6</td>\n",
       "      <td>68</td>\n",
       "      <td>...</td>\n",
       "      <td>160</td>\n",
       "      <td>68</td>\n",
       "      <td>9.0</td>\n",
       "      <td>68</td>\n",
       "      <td>31</td>\n",
       "      <td>68</td>\n",
       "      <td>4'25\"</td>\n",
       "      <td>68</td>\n",
       "      <td>4'20\"</td>\n",
       "      <td>68</td>\n",
       "    </tr>\n",
       "    <tr>\n",
       "      <th>11</th>\n",
       "      <td>2960</td>\n",
       "      <td>66</td>\n",
       "      <td>2050</td>\n",
       "      <td>66</td>\n",
       "      <td>8.9</td>\n",
       "      <td>66</td>\n",
       "      <td>10.0</td>\n",
       "      <td>66</td>\n",
       "      <td>5.2</td>\n",
       "      <td>66</td>\n",
       "      <td>...</td>\n",
       "      <td>157</td>\n",
       "      <td>66</td>\n",
       "      <td>NaN</td>\n",
       "      <td>66</td>\n",
       "      <td>29</td>\n",
       "      <td>66</td>\n",
       "      <td>4'30\"</td>\n",
       "      <td>66</td>\n",
       "      <td>4'25\"</td>\n",
       "      <td>66</td>\n",
       "    </tr>\n",
       "    <tr>\n",
       "      <th>12</th>\n",
       "      <td>2840</td>\n",
       "      <td>64</td>\n",
       "      <td>1950</td>\n",
       "      <td>64</td>\n",
       "      <td>9.1</td>\n",
       "      <td>64</td>\n",
       "      <td>10.2</td>\n",
       "      <td>64</td>\n",
       "      <td>3.8</td>\n",
       "      <td>64</td>\n",
       "      <td>...</td>\n",
       "      <td>154</td>\n",
       "      <td>64</td>\n",
       "      <td>8.0</td>\n",
       "      <td>64</td>\n",
       "      <td>27</td>\n",
       "      <td>64</td>\n",
       "      <td>4'35\"</td>\n",
       "      <td>64</td>\n",
       "      <td>4'30\"</td>\n",
       "      <td>64</td>\n",
       "    </tr>\n",
       "    <tr>\n",
       "      <th>13</th>\n",
       "      <td>2720</td>\n",
       "      <td>62</td>\n",
       "      <td>1850</td>\n",
       "      <td>62</td>\n",
       "      <td>9.3</td>\n",
       "      <td>62</td>\n",
       "      <td>10.4</td>\n",
       "      <td>62</td>\n",
       "      <td>2.4</td>\n",
       "      <td>62</td>\n",
       "      <td>...</td>\n",
       "      <td>151</td>\n",
       "      <td>62</td>\n",
       "      <td>NaN</td>\n",
       "      <td>62</td>\n",
       "      <td>25</td>\n",
       "      <td>62</td>\n",
       "      <td>4'40\"</td>\n",
       "      <td>62</td>\n",
       "      <td>4'35\"</td>\n",
       "      <td>62</td>\n",
       "    </tr>\n",
       "    <tr>\n",
       "      <th>14</th>\n",
       "      <td>2600</td>\n",
       "      <td>60</td>\n",
       "      <td>1750</td>\n",
       "      <td>60</td>\n",
       "      <td>9.5</td>\n",
       "      <td>60</td>\n",
       "      <td>10.6</td>\n",
       "      <td>60</td>\n",
       "      <td>1.0</td>\n",
       "      <td>60</td>\n",
       "      <td>...</td>\n",
       "      <td>148</td>\n",
       "      <td>60</td>\n",
       "      <td>7.0</td>\n",
       "      <td>60</td>\n",
       "      <td>23</td>\n",
       "      <td>60</td>\n",
       "      <td>4'45\"</td>\n",
       "      <td>60</td>\n",
       "      <td>4'40\"</td>\n",
       "      <td>60</td>\n",
       "    </tr>\n",
       "    <tr>\n",
       "      <th>15</th>\n",
       "      <td>2470</td>\n",
       "      <td>50</td>\n",
       "      <td>1710</td>\n",
       "      <td>50</td>\n",
       "      <td>9.7</td>\n",
       "      <td>50</td>\n",
       "      <td>10.8</td>\n",
       "      <td>50</td>\n",
       "      <td>0.0</td>\n",
       "      <td>50</td>\n",
       "      <td>...</td>\n",
       "      <td>143</td>\n",
       "      <td>50</td>\n",
       "      <td>6.0</td>\n",
       "      <td>50</td>\n",
       "      <td>21</td>\n",
       "      <td>50</td>\n",
       "      <td>5'05\"</td>\n",
       "      <td>50</td>\n",
       "      <td>4'50\"</td>\n",
       "      <td>50</td>\n",
       "    </tr>\n",
       "    <tr>\n",
       "      <th>16</th>\n",
       "      <td>2340</td>\n",
       "      <td>40</td>\n",
       "      <td>1670</td>\n",
       "      <td>40</td>\n",
       "      <td>9.9</td>\n",
       "      <td>40</td>\n",
       "      <td>11.0</td>\n",
       "      <td>40</td>\n",
       "      <td>-1.0</td>\n",
       "      <td>40</td>\n",
       "      <td>...</td>\n",
       "      <td>138</td>\n",
       "      <td>40</td>\n",
       "      <td>5.0</td>\n",
       "      <td>40</td>\n",
       "      <td>19</td>\n",
       "      <td>40</td>\n",
       "      <td>5'25\"</td>\n",
       "      <td>40</td>\n",
       "      <td>5'00\"</td>\n",
       "      <td>40</td>\n",
       "    </tr>\n",
       "    <tr>\n",
       "      <th>17</th>\n",
       "      <td>2210</td>\n",
       "      <td>30</td>\n",
       "      <td>1630</td>\n",
       "      <td>30</td>\n",
       "      <td>10.1</td>\n",
       "      <td>30</td>\n",
       "      <td>11.2</td>\n",
       "      <td>30</td>\n",
       "      <td>-2.0</td>\n",
       "      <td>30</td>\n",
       "      <td>...</td>\n",
       "      <td>133</td>\n",
       "      <td>30</td>\n",
       "      <td>4.0</td>\n",
       "      <td>30</td>\n",
       "      <td>17</td>\n",
       "      <td>30</td>\n",
       "      <td>5'45\"</td>\n",
       "      <td>30</td>\n",
       "      <td>5'10\"</td>\n",
       "      <td>30</td>\n",
       "    </tr>\n",
       "    <tr>\n",
       "      <th>18</th>\n",
       "      <td>2080</td>\n",
       "      <td>20</td>\n",
       "      <td>1590</td>\n",
       "      <td>20</td>\n",
       "      <td>10.3</td>\n",
       "      <td>20</td>\n",
       "      <td>11.4</td>\n",
       "      <td>20</td>\n",
       "      <td>-3.0</td>\n",
       "      <td>20</td>\n",
       "      <td>...</td>\n",
       "      <td>128</td>\n",
       "      <td>20</td>\n",
       "      <td>3.0</td>\n",
       "      <td>20</td>\n",
       "      <td>15</td>\n",
       "      <td>20</td>\n",
       "      <td>6'05\"</td>\n",
       "      <td>20</td>\n",
       "      <td>5'20\"</td>\n",
       "      <td>20</td>\n",
       "    </tr>\n",
       "    <tr>\n",
       "      <th>19</th>\n",
       "      <td>1950</td>\n",
       "      <td>10</td>\n",
       "      <td>1550</td>\n",
       "      <td>10</td>\n",
       "      <td>10.5</td>\n",
       "      <td>10</td>\n",
       "      <td>11.6</td>\n",
       "      <td>10</td>\n",
       "      <td>-4.0</td>\n",
       "      <td>10</td>\n",
       "      <td>...</td>\n",
       "      <td>123</td>\n",
       "      <td>10</td>\n",
       "      <td>2.0</td>\n",
       "      <td>10</td>\n",
       "      <td>13</td>\n",
       "      <td>10</td>\n",
       "      <td>6'25\"</td>\n",
       "      <td>10</td>\n",
       "      <td>5'30\"</td>\n",
       "      <td>10</td>\n",
       "    </tr>\n",
       "  </tbody>\n",
       "</table>\n",
       "<p>20 rows × 24 columns</p>\n",
       "</div>"
      ],
      "text/plain": [
       "    男肺活量       女肺活量      男50米跑      女50米跑       男体前屈       ...  女跳远       \\\n",
       "      成绩   分数    成绩   分数    成绩   分数    成绩   分数    成绩   分数  ...   成绩   分数   \n",
       "0   4540  100  3150  100   7.1  100   7.8  100  23.6  100  ...  204  100   \n",
       "1   4420   95  3100   95   7.2   95   7.9   95  21.5   95  ...  198   95   \n",
       "2   4300   90  3050   90   7.3   90   8.0   90  19.4   90  ...  192   90   \n",
       "3   4050   85  2900   85   7.4   85   8.3   85  17.2   85  ...  185   85   \n",
       "4   3800   80  2750   80   7.5   80   8.6   80  15.0   80  ...  178   80   \n",
       "5   3680   78  2650   78   7.7   78   8.8   78  13.6   78  ...  175   78   \n",
       "6   3560   76  2550   76   7.9   76   9.0   76  12.2   76  ...  172   76   \n",
       "7   3440   74  2450   74   8.1   74   9.2   74  10.8   74  ...  169   74   \n",
       "8   3320   72  2350   72   8.3   72   9.4   72   9.4   72  ...  166   72   \n",
       "9   3200   70  2250   70   8.5   70   9.6   70   8.0   70  ...  163   70   \n",
       "10  3080   68  2150   68   8.7   68   9.8   68   6.6   68  ...  160   68   \n",
       "11  2960   66  2050   66   8.9   66  10.0   66   5.2   66  ...  157   66   \n",
       "12  2840   64  1950   64   9.1   64  10.2   64   3.8   64  ...  154   64   \n",
       "13  2720   62  1850   62   9.3   62  10.4   62   2.4   62  ...  151   62   \n",
       "14  2600   60  1750   60   9.5   60  10.6   60   1.0   60  ...  148   60   \n",
       "15  2470   50  1710   50   9.7   50  10.8   50   0.0   50  ...  143   50   \n",
       "16  2340   40  1670   40   9.9   40  11.0   40  -1.0   40  ...  138   40   \n",
       "17  2210   30  1630   30  10.1   30  11.2   30  -2.0   30  ...  133   30   \n",
       "18  2080   20  1590   20  10.3   20  11.4   20  -3.0   20  ...  128   20   \n",
       "19  1950   10  1550   10  10.5   10  11.6   10  -4.0   10  ...  123   10   \n",
       "\n",
       "     男引体      女仰卧      男1000米跑      女800米跑       \n",
       "      成绩   分数  成绩   分数      成绩   分数     成绩   分数  \n",
       "0   16.0  100  53  100   3'30\"  100  3'24\"  100  \n",
       "1   15.0   95  51   95   3'35\"   95  3'30\"   95  \n",
       "2   14.0   90  49   90   3'40\"   90  3'36\"   90  \n",
       "3   13.0   85  46   85   3'47\"   85  3'43\"   85  \n",
       "4   12.0   80  43   80   3'55\"   80  3'50\"   80  \n",
       "5    NaN   78  41   78   4'00\"   78  3'55\"   78  \n",
       "6   11.0   76  39   76   4'05\"   76  4'00\"   76  \n",
       "7    NaN   74  37   74   4'10\"   74  4'05\"   74  \n",
       "8   10.0   72  35   72   4'15\"   72  4'10\"   72  \n",
       "9    NaN   70  33   70   4'20\"   70  4'15\"   70  \n",
       "10   9.0   68  31   68   4'25\"   68  4'20\"   68  \n",
       "11   NaN   66  29   66   4'30\"   66  4'25\"   66  \n",
       "12   8.0   64  27   64   4'35\"   64  4'30\"   64  \n",
       "13   NaN   62  25   62   4'40\"   62  4'35\"   62  \n",
       "14   7.0   60  23   60   4'45\"   60  4'40\"   60  \n",
       "15   6.0   50  21   50   5'05\"   50  4'50\"   50  \n",
       "16   5.0   40  19   40   5'25\"   40  5'00\"   40  \n",
       "17   4.0   30  17   30   5'45\"   30  5'10\"   30  \n",
       "18   3.0   20  15   20   6'05\"   20  5'20\"   20  \n",
       "19   2.0   10  13   10   6'25\"   10  5'30\"   10  \n",
       "\n",
       "[20 rows x 24 columns]"
      ]
     },
     "execution_count": 5,
     "metadata": {},
     "output_type": "execute_result"
    }
   ],
   "source": [
    "criteria = pd.read_excel('./体侧成绩评分表.xls',header = [0,1])\n",
    "criteria"
   ]
  },
  {
   "cell_type": "code",
   "execution_count": 6,
   "metadata": {
    "ExecuteTime": {
     "end_time": "2021-07-23T05:48:06.273193Z",
     "start_time": "2021-07-23T05:48:06.268337Z"
    }
   },
   "outputs": [
    {
     "data": {
      "text/plain": [
       "MultiIndex([(   '男肺活量', '成绩'),\n",
       "            (   '男肺活量', '分数'),\n",
       "            (   '女肺活量', '成绩'),\n",
       "            (   '女肺活量', '分数'),\n",
       "            (  '男50米跑', '成绩'),\n",
       "            (  '男50米跑', '分数'),\n",
       "            (  '女50米跑', '成绩'),\n",
       "            (  '女50米跑', '分数'),\n",
       "            (   '男体前屈', '成绩'),\n",
       "            (   '男体前屈', '分数'),\n",
       "            (   '女体前屈', '成绩'),\n",
       "            (   '女体前屈', '分数'),\n",
       "            (    '男跳远', '成绩'),\n",
       "            (    '男跳远', '分数'),\n",
       "            (    '女跳远', '成绩'),\n",
       "            (    '女跳远', '分数'),\n",
       "            (    '男引体', '成绩'),\n",
       "            (    '男引体', '分数'),\n",
       "            (    '女仰卧', '成绩'),\n",
       "            (    '女仰卧', '分数'),\n",
       "            ('男1000米跑', '成绩'),\n",
       "            ('男1000米跑', '分数'),\n",
       "            ( '女800米跑', '成绩'),\n",
       "            ( '女800米跑', '分数')],\n",
       "           )"
      ]
     },
     "execution_count": 6,
     "metadata": {},
     "output_type": "execute_result"
    }
   ],
   "source": [
    "criteria.columns"
   ]
  },
  {
   "cell_type": "markdown",
   "metadata": {},
   "source": [
    "### 4、数据类型转换"
   ]
  },
  {
   "cell_type": "markdown",
   "metadata": {},
   "source": [
    "#### 4.1 男1000米跑，数据类型是str，并且是4’26这种形式，需要变成float类型的值"
   ]
  },
  {
   "cell_type": "code",
   "execution_count": 7,
   "metadata": {
    "ExecuteTime": {
     "end_time": "2021-07-23T05:48:07.542356Z",
     "start_time": "2021-07-23T05:48:07.537732Z"
    }
   },
   "outputs": [],
   "source": [
    "def convert_timing(timing_str):\n",
    "    if type(timing_str) != 'str':\n",
    "        timing_str = str(timing_str)\n",
    "     \n",
    "    if \"'\" in timing_str:\n",
    "        m = timing_str.split(\"'\")[0]\n",
    "        s = timing_str.split(\"'\")[1]\n",
    "        m = int(m)\n",
    "        s = int(s)\n",
    "        s_ = round(s / 60, 2)\n",
    "        res = m + s_\n",
    "    else:\n",
    "        res = int(timing_str)\n",
    "        \n",
    "    return res"
   ]
  },
  {
   "cell_type": "code",
   "execution_count": 8,
   "metadata": {
    "ExecuteTime": {
     "end_time": "2021-07-23T05:48:08.031142Z",
     "start_time": "2021-07-23T05:48:08.027896Z"
    }
   },
   "outputs": [],
   "source": [
    "for i in range(data_mens.shape[1]):\n",
    "    convert_timing(data_mens['男1000米跑'][i])"
   ]
  },
  {
   "cell_type": "code",
   "execution_count": 9,
   "metadata": {
    "ExecuteTime": {
     "end_time": "2021-07-23T05:48:08.517148Z",
     "start_time": "2021-07-23T05:48:08.510065Z"
    }
   },
   "outputs": [
    {
     "data": {
      "text/plain": [
       "0      4.22\n",
       "1      4.27\n",
       "2      4.15\n",
       "3      4.35\n",
       "4      3.73\n",
       "       ... \n",
       "472    4.38\n",
       "473    5.32\n",
       "474    3.42\n",
       "475    4.65\n",
       "476    0.00\n",
       "Name: 男1000米跑, Length: 477, dtype: float64"
      ]
     },
     "execution_count": 9,
     "metadata": {},
     "output_type": "execute_result"
    }
   ],
   "source": [
    "data_mens['男1000米跑'] = data_mens['男1000米跑'].apply(convert_timing)\n",
    "data_mens['男1000米跑']"
   ]
  },
  {
   "cell_type": "markdown",
   "metadata": {},
   "source": [
    "#### 4.2 评分标准中男1000米跑和女800米跑的成绩都是4‘10’‘这种形式，需要转化为float类型值"
   ]
  },
  {
   "cell_type": "code",
   "execution_count": 10,
   "metadata": {
    "ExecuteTime": {
     "end_time": "2021-07-23T05:48:09.594438Z",
     "start_time": "2021-07-23T05:48:09.590774Z"
    }
   },
   "outputs": [],
   "source": [
    "def convert_timing_criteria(timing_str):\n",
    "    m = int(timing_str[0])\n",
    "    s = int(timing_str[2:4])\n",
    "     \n",
    "    s_ = round(s / 60, 2)\n",
    "    res = m + s_\n",
    "        \n",
    "    return res"
   ]
  },
  {
   "cell_type": "code",
   "execution_count": 11,
   "metadata": {
    "ExecuteTime": {
     "end_time": "2021-07-23T05:48:10.364692Z",
     "start_time": "2021-07-23T05:48:10.357260Z"
    }
   },
   "outputs": [
    {
     "data": {
      "text/plain": [
       "0     3.40\n",
       "1     3.50\n",
       "2     3.60\n",
       "3     3.72\n",
       "4     3.83\n",
       "5     3.92\n",
       "6     4.00\n",
       "7     4.08\n",
       "8     4.17\n",
       "9     4.25\n",
       "10    4.33\n",
       "11    4.42\n",
       "12    4.50\n",
       "13    4.58\n",
       "14    4.67\n",
       "15    4.83\n",
       "16    5.00\n",
       "17    5.17\n",
       "18    5.33\n",
       "19    5.50\n",
       "Name: (女800米跑, 成绩), dtype: float64"
      ]
     },
     "execution_count": 11,
     "metadata": {},
     "output_type": "execute_result"
    }
   ],
   "source": [
    "criteria[('女800米跑', '成绩')] = criteria[('女800米跑', '成绩')].apply(convert_timing_criteria)\n",
    "criteria[('女800米跑', '成绩')] "
   ]
  },
  {
   "cell_type": "code",
   "execution_count": 12,
   "metadata": {
    "ExecuteTime": {
     "end_time": "2021-07-23T05:48:11.060278Z",
     "start_time": "2021-07-23T05:48:11.053394Z"
    }
   },
   "outputs": [
    {
     "data": {
      "text/plain": [
       "0     3.50\n",
       "1     3.58\n",
       "2     3.67\n",
       "3     3.78\n",
       "4     3.92\n",
       "5     4.00\n",
       "6     4.08\n",
       "7     4.17\n",
       "8     4.25\n",
       "9     4.33\n",
       "10    4.42\n",
       "11    4.50\n",
       "12    4.58\n",
       "13    4.67\n",
       "14    4.75\n",
       "15    5.08\n",
       "16    5.42\n",
       "17    5.75\n",
       "18    6.08\n",
       "19    6.42\n",
       "Name: (男1000米跑, 成绩), dtype: float64"
      ]
     },
     "execution_count": 12,
     "metadata": {},
     "output_type": "execute_result"
    }
   ],
   "source": [
    "criteria[('男1000米跑', '成绩')] = criteria[('男1000米跑', '成绩')].apply(convert_timing_criteria)\n",
    "criteria[('男1000米跑', '成绩')] "
   ]
  },
  {
   "cell_type": "markdown",
   "metadata": {
    "ExecuteTime": {
     "end_time": "2021-07-22T08:59:36.431294Z",
     "start_time": "2021-07-22T08:59:36.425229Z"
    }
   },
   "source": [
    "#### 4.3 其他所有数值类型的值，都要转换为float类型的值"
   ]
  },
  {
   "cell_type": "code",
   "execution_count": 13,
   "metadata": {
    "ExecuteTime": {
     "end_time": "2021-07-23T05:48:13.021740Z",
     "start_time": "2021-07-23T05:48:13.005567Z"
    }
   },
   "outputs": [
    {
     "name": "stdout",
     "output_type": "stream",
     "text": [
      "<class 'pandas.core.frame.DataFrame'>\n",
      "RangeIndex: 477 entries, 0 to 476\n",
      "Data columns (total 11 columns):\n",
      " #   Column   Non-Null Count  Dtype  \n",
      "---  ------   --------------  -----  \n",
      " 0   班级       477 non-null    int64  \n",
      " 1   性别       477 non-null    object \n",
      " 2   男1000米跑  477 non-null    float64\n",
      " 3   男50米跑    477 non-null    float64\n",
      " 4   男跳远      477 non-null    float64\n",
      " 5   男体前屈     477 non-null    float64\n",
      " 6   男引体      477 non-null    float64\n",
      " 7   男肺活量     477 non-null    float64\n",
      " 8   身高       477 non-null    float64\n",
      " 9   体重       477 non-null    float64\n",
      " 10  BMI      477 non-null    float64\n",
      "dtypes: float64(9), int64(1), object(1)\n",
      "memory usage: 41.1+ KB\n"
     ]
    }
   ],
   "source": [
    "### 男生成绩表\n",
    "\n",
    "data_mens_col = data_mens.columns.tolist()\n",
    "# data_mens_col\n",
    "for col in data_mens_col[2:]:\n",
    "    data_mens[col] = data_mens[col].astype('float64')\n",
    "data_mens.info()"
   ]
  },
  {
   "cell_type": "code",
   "execution_count": 14,
   "metadata": {
    "ExecuteTime": {
     "end_time": "2021-07-23T05:48:13.482867Z",
     "start_time": "2021-07-23T05:48:13.466064Z"
    }
   },
   "outputs": [
    {
     "name": "stdout",
     "output_type": "stream",
     "text": [
      "<class 'pandas.core.frame.DataFrame'>\n",
      "RangeIndex: 593 entries, 0 to 592\n",
      "Data columns (total 11 columns):\n",
      " #   Column  Non-Null Count  Dtype  \n",
      "---  ------  --------------  -----  \n",
      " 0   班级      593 non-null    int64  \n",
      " 1   性别      593 non-null    object \n",
      " 2   女800米跑  593 non-null    float64\n",
      " 3   女50米跑   593 non-null    float64\n",
      " 4   女跳远     593 non-null    float64\n",
      " 5   女体前屈    593 non-null    float64\n",
      " 6   女仰卧     593 non-null    float64\n",
      " 7   女肺活量    593 non-null    float64\n",
      " 8   身高      593 non-null    float64\n",
      " 9   体重      593 non-null    float64\n",
      " 10  BMI     593 non-null    float64\n",
      "dtypes: float64(9), int64(1), object(1)\n",
      "memory usage: 51.1+ KB\n"
     ]
    }
   ],
   "source": [
    "### 女生成绩表\n",
    "\n",
    "data_womens_col = data_womens.columns.tolist()\n",
    "# data_womens_col\n",
    "for col in data_womens_col[2:]:\n",
    "    data_womens[col] = data_womens[col].astype('float64')\n",
    "data_womens.info()"
   ]
  },
  {
   "cell_type": "code",
   "execution_count": 15,
   "metadata": {
    "ExecuteTime": {
     "end_time": "2021-07-23T05:48:13.937845Z",
     "start_time": "2021-07-23T05:48:13.904133Z"
    }
   },
   "outputs": [
    {
     "name": "stdout",
     "output_type": "stream",
     "text": [
      "<class 'pandas.core.frame.DataFrame'>\n",
      "RangeIndex: 20 entries, 0 to 19\n",
      "Data columns (total 24 columns):\n",
      " #   Column         Non-Null Count  Dtype  \n",
      "---  ------         --------------  -----  \n",
      " 0   (男肺活量, 成绩)     20 non-null     float64\n",
      " 1   (男肺活量, 分数)     20 non-null     float64\n",
      " 2   (女肺活量, 成绩)     20 non-null     float64\n",
      " 3   (女肺活量, 分数)     20 non-null     float64\n",
      " 4   (男50米跑, 成绩)    20 non-null     float64\n",
      " 5   (男50米跑, 分数)    20 non-null     float64\n",
      " 6   (女50米跑, 成绩)    20 non-null     float64\n",
      " 7   (女50米跑, 分数)    20 non-null     float64\n",
      " 8   (男体前屈, 成绩)     20 non-null     float64\n",
      " 9   (男体前屈, 分数)     20 non-null     float64\n",
      " 10  (女体前屈, 成绩)     20 non-null     float64\n",
      " 11  (女体前屈, 分数)     20 non-null     float64\n",
      " 12  (男跳远, 成绩)      20 non-null     float64\n",
      " 13  (男跳远, 分数)      20 non-null     float64\n",
      " 14  (女跳远, 成绩)      20 non-null     float64\n",
      " 15  (女跳远, 分数)      20 non-null     float64\n",
      " 16  (男引体, 成绩)      15 non-null     float64\n",
      " 17  (男引体, 分数)      20 non-null     float64\n",
      " 18  (女仰卧, 成绩)      20 non-null     float64\n",
      " 19  (女仰卧, 分数)      20 non-null     float64\n",
      " 20  (男1000米跑, 成绩)  20 non-null     float64\n",
      " 21  (男1000米跑, 分数)  20 non-null     float64\n",
      " 22  (女800米跑, 成绩)   20 non-null     float64\n",
      " 23  (女800米跑, 分数)   20 non-null     float64\n",
      "dtypes: float64(24)\n",
      "memory usage: 3.9 KB\n"
     ]
    }
   ],
   "source": [
    "### 评分标准表\n",
    "for c in criteria.columns.tolist():\n",
    "    criteria[c] = criteria[c].astype('float64')\n",
    "criteria.info()"
   ]
  },
  {
   "cell_type": "markdown",
   "metadata": {},
   "source": [
    "### 5、对体测成绩进行分数转换\n",
    "跑步类（越小越好）；跳远、体前屈（越大越好）    "
   ]
  },
  {
   "cell_type": "code",
   "execution_count": 16,
   "metadata": {
    "ExecuteTime": {
     "end_time": "2021-07-23T05:48:14.890311Z",
     "start_time": "2021-07-23T05:48:14.888010Z"
    }
   },
   "outputs": [],
   "source": [
    "## 将0转换为NaN\n",
    "# data_mens = data_mens.replace(0, np.nan)\n",
    "# data_womens = data_womens.replace(0, np.nan)"
   ]
  },
  {
   "cell_type": "markdown",
   "metadata": {},
   "source": [
    "#### 5.0 datafrmaes"
   ]
  },
  {
   "cell_type": "code",
   "execution_count": 17,
   "metadata": {
    "ExecuteTime": {
     "end_time": "2021-07-23T05:48:15.971930Z",
     "start_time": "2021-07-23T05:48:15.962411Z"
    }
   },
   "outputs": [],
   "source": [
    "mens_final = pd.DataFrame(columns=['班级', '性别', \n",
    "                                   '男1000米跑', '男1000米跑分数', \n",
    "                                   '男50米跑', '男50米跑分数', \n",
    "                                   '男跳远', '男跳远分数', \n",
    "                                   '男体前屈', '男体前屈分数', \n",
    "                                   '男引体', '男引体分数', \n",
    "                                   '男肺活量', '男肺活量分数', \n",
    "                                   '身高', '体重', 'BMI'])\n",
    "\n",
    "womens_final = pd.DataFrame(columns=['班级', '性别', \n",
    "                                   '女800米跑', '女800米跑分数', \n",
    "                                   '女50米跑', '女50米跑分数', \n",
    "                                   '女跳远', '女跳远分数', \n",
    "                                   '女体前屈', '女体前屈分数', \n",
    "                                   '女仰卧', '女仰卧分数', \n",
    "                                   '女肺活量', '女肺活量分数', \n",
    "                                   '身高', '体重', 'BMI'])"
   ]
  },
  {
   "cell_type": "markdown",
   "metadata": {},
   "source": [
    "#### 5.1 男班级性别"
   ]
  },
  {
   "cell_type": "code",
   "execution_count": 18,
   "metadata": {
    "ExecuteTime": {
     "end_time": "2021-07-23T05:48:17.289433Z",
     "start_time": "2021-07-23T05:48:17.284917Z"
    }
   },
   "outputs": [],
   "source": [
    "mens_final['班级'] = data_mens['班级']\n",
    "mens_final['性别'] = data_mens['性别']"
   ]
  },
  {
   "cell_type": "markdown",
   "metadata": {},
   "source": [
    "#### 5.2 男1000米"
   ]
  },
  {
   "cell_type": "code",
   "execution_count": 19,
   "metadata": {
    "ExecuteTime": {
     "end_time": "2021-07-23T05:48:18.619798Z",
     "start_time": "2021-07-23T05:48:18.616923Z"
    }
   },
   "outputs": [],
   "source": [
    "mens_final['男1000米跑'] = data_mens['男1000米跑']"
   ]
  },
  {
   "cell_type": "code",
   "execution_count": 34,
   "metadata": {
    "ExecuteTime": {
     "end_time": "2021-07-23T05:53:24.885228Z",
     "start_time": "2021-07-23T05:53:24.881022Z"
    }
   },
   "outputs": [],
   "source": [
    "def marking_rule_mens_1000(actual_score):\n",
    "    criteria_target = criteria[('男1000米跑', '成绩')]\n",
    "    criterial_score = criteria[('男1000米跑', '分数')]\n",
    "    marked_score = 0\n",
    "    if actual_score == 0:\n",
    "        marked_score = 0\n",
    "    else:\n",
    "        for i in range(criteria_target.shape[0]):\n",
    "            if actual_score  <= criteria_target[i]:\n",
    "                marked_score = criterial_score[i]\n",
    "                break\n",
    "    \n",
    "    return marked_score"
   ]
  },
  {
   "cell_type": "code",
   "execution_count": 35,
   "metadata": {
    "ExecuteTime": {
     "end_time": "2021-07-23T05:53:25.594064Z",
     "start_time": "2021-07-23T05:53:25.500498Z"
    }
   },
   "outputs": [],
   "source": [
    "mens_final['男1000米跑分数'] = data_mens['男1000米跑'].apply(marking_rule_mens_1000)"
   ]
  },
  {
   "cell_type": "code",
   "execution_count": 36,
   "metadata": {
    "ExecuteTime": {
     "end_time": "2021-07-23T05:53:26.010417Z",
     "start_time": "2021-07-23T05:53:26.004162Z"
    }
   },
   "outputs": [
    {
     "data": {
      "text/plain": [
       "0       72.0\n",
       "1       70.0\n",
       "2       74.0\n",
       "3       68.0\n",
       "4       85.0\n",
       "       ...  \n",
       "472     68.0\n",
       "473     40.0\n",
       "474    100.0\n",
       "475     62.0\n",
       "476      0.0\n",
       "Name: 男1000米跑分数, Length: 477, dtype: float64"
      ]
     },
     "execution_count": 36,
     "metadata": {},
     "output_type": "execute_result"
    }
   ],
   "source": [
    "mens_final['男1000米跑分数']"
   ]
  },
  {
   "cell_type": "markdown",
   "metadata": {},
   "source": [
    "#### 5.3 男50米跑"
   ]
  },
  {
   "cell_type": "code",
   "execution_count": 24,
   "metadata": {
    "ExecuteTime": {
     "end_time": "2021-07-23T05:49:45.867992Z",
     "start_time": "2021-07-23T05:49:45.864581Z"
    }
   },
   "outputs": [],
   "source": [
    "mens_final['男50米跑'] = data_mens['男50米跑']"
   ]
  },
  {
   "cell_type": "code",
   "execution_count": 31,
   "metadata": {
    "ExecuteTime": {
     "end_time": "2021-07-23T05:52:59.457003Z",
     "start_time": "2021-07-23T05:52:59.452326Z"
    }
   },
   "outputs": [],
   "source": [
    "def marking_rule_mens_50(actual_score):\n",
    "    criteria_target = criteria[('男50米跑', '成绩')]\n",
    "    criterial_score = criteria[('男50米跑', '分数')]\n",
    "    marked_score = 0\n",
    "    if actual_score == 0:\n",
    "        marked_score = 0\n",
    "    else:\n",
    "        for i in range(criteria_target.shape[0]):\n",
    "            if actual_score  <= criteria_target[i]:\n",
    "                marked_score = criterial_score[i]\n",
    "                break\n",
    "    \n",
    "    return marked_score"
   ]
  },
  {
   "cell_type": "code",
   "execution_count": 32,
   "metadata": {
    "ExecuteTime": {
     "end_time": "2021-07-23T05:53:00.171302Z",
     "start_time": "2021-07-23T05:53:00.070367Z"
    }
   },
   "outputs": [],
   "source": [
    "mens_final['男50米跑分数'] = data_mens['男50米跑'].apply(marking_rule_mens_50)"
   ]
  },
  {
   "cell_type": "code",
   "execution_count": 33,
   "metadata": {
    "ExecuteTime": {
     "end_time": "2021-07-23T05:53:00.923990Z",
     "start_time": "2021-07-23T05:53:00.918267Z"
    }
   },
   "outputs": [
    {
     "data": {
      "text/plain": [
       "0      66.0\n",
       "1      78.0\n",
       "2      70.0\n",
       "3      74.0\n",
       "4      78.0\n",
       "       ... \n",
       "472    72.0\n",
       "473    50.0\n",
       "474    80.0\n",
       "475    76.0\n",
       "476     0.0\n",
       "Name: 男50米跑分数, Length: 477, dtype: float64"
      ]
     },
     "execution_count": 33,
     "metadata": {},
     "output_type": "execute_result"
    }
   ],
   "source": [
    "mens_final['男50米跑分数']"
   ]
  },
  {
   "cell_type": "markdown",
   "metadata": {},
   "source": [
    "#### 5.4 男跳远"
   ]
  },
  {
   "cell_type": "code",
   "execution_count": 43,
   "metadata": {
    "ExecuteTime": {
     "end_time": "2021-07-23T05:56:55.640851Z",
     "start_time": "2021-07-23T05:56:55.637545Z"
    }
   },
   "outputs": [],
   "source": [
    "mens_final['男跳远'] = data_mens['男跳远']"
   ]
  },
  {
   "cell_type": "code",
   "execution_count": 44,
   "metadata": {
    "ExecuteTime": {
     "end_time": "2021-07-23T05:58:08.781282Z",
     "start_time": "2021-07-23T05:58:08.776925Z"
    }
   },
   "outputs": [],
   "source": [
    "def marking_rule_mens_ty(actual_score):\n",
    "    criteria_target = criteria[('男跳远', '成绩')]\n",
    "    criterial_score = criteria[('男跳远', '分数')]\n",
    "    marked_score = 0\n",
    "    if actual_score == 0:\n",
    "        marked_score = 0\n",
    "    else:\n",
    "        for i in range(criteria_target.shape[0]):\n",
    "            if actual_score  >= criteria_target[i]:\n",
    "                marked_score = criterial_score[i]\n",
    "                break\n",
    "    \n",
    "    return marked_score"
   ]
  },
  {
   "cell_type": "code",
   "execution_count": 45,
   "metadata": {
    "ExecuteTime": {
     "end_time": "2021-07-23T05:58:38.658152Z",
     "start_time": "2021-07-23T05:58:38.559574Z"
    }
   },
   "outputs": [],
   "source": [
    "mens_final['男跳远分数'] = data_mens['男跳远'].apply(marking_rule_mens_ty)"
   ]
  },
  {
   "cell_type": "code",
   "execution_count": 46,
   "metadata": {
    "ExecuteTime": {
     "end_time": "2021-07-23T05:58:43.833281Z",
     "start_time": "2021-07-23T05:58:43.827030Z"
    }
   },
   "outputs": [
    {
     "data": {
      "text/plain": [
       "0      60.0\n",
       "1      74.0\n",
       "2      70.0\n",
       "3      64.0\n",
       "4      66.0\n",
       "       ... \n",
       "472    66.0\n",
       "473    66.0\n",
       "474    90.0\n",
       "475    66.0\n",
       "476     0.0\n",
       "Name: 男跳远分数, Length: 477, dtype: float64"
      ]
     },
     "execution_count": 46,
     "metadata": {},
     "output_type": "execute_result"
    }
   ],
   "source": [
    "mens_final['男跳远分数']"
   ]
  },
  {
   "cell_type": "markdown",
   "metadata": {},
   "source": [
    "#### 5.5 男体前屈"
   ]
  },
  {
   "cell_type": "code",
   "execution_count": 47,
   "metadata": {
    "ExecuteTime": {
     "end_time": "2021-07-23T06:00:04.993695Z",
     "start_time": "2021-07-23T06:00:04.990090Z"
    }
   },
   "outputs": [],
   "source": [
    "mens_final['男体前屈'] = data_mens['男体前屈']"
   ]
  },
  {
   "cell_type": "code",
   "execution_count": 48,
   "metadata": {
    "ExecuteTime": {
     "end_time": "2021-07-23T06:00:34.247470Z",
     "start_time": "2021-07-23T06:00:34.242707Z"
    }
   },
   "outputs": [],
   "source": [
    "def marking_rule_mens_tqq(actual_score):\n",
    "    criteria_target = criteria[('男体前屈', '成绩')]\n",
    "    criterial_score = criteria[('男体前屈', '分数')]\n",
    "    marked_score = 0\n",
    "    if actual_score == 0:\n",
    "        marked_score = 0\n",
    "    else:\n",
    "        for i in range(criteria_target.shape[0]):\n",
    "            if actual_score  >= criteria_target[i]:\n",
    "                marked_score = criterial_score[i]\n",
    "                break\n",
    "    \n",
    "    return marked_score"
   ]
  },
  {
   "cell_type": "code",
   "execution_count": 49,
   "metadata": {
    "ExecuteTime": {
     "end_time": "2021-07-23T06:00:59.742026Z",
     "start_time": "2021-07-23T06:00:59.639979Z"
    }
   },
   "outputs": [],
   "source": [
    "mens_final['男体前屈分数'] = data_mens['男体前屈'].apply(marking_rule_mens_tqq)"
   ]
  },
  {
   "cell_type": "code",
   "execution_count": 50,
   "metadata": {
    "ExecuteTime": {
     "end_time": "2021-07-23T06:01:10.187516Z",
     "start_time": "2021-07-23T06:01:10.179171Z"
    }
   },
   "outputs": [
    {
     "data": {
      "text/plain": [
       "0      74.0\n",
       "1      74.0\n",
       "2      78.0\n",
       "3      76.0\n",
       "4      76.0\n",
       "       ... \n",
       "472    72.0\n",
       "473    80.0\n",
       "474    76.0\n",
       "475    78.0\n",
       "476     0.0\n",
       "Name: 男体前屈分数, Length: 477, dtype: float64"
      ]
     },
     "execution_count": 50,
     "metadata": {},
     "output_type": "execute_result"
    }
   ],
   "source": [
    "mens_final['男体前屈分数'] "
   ]
  },
  {
   "cell_type": "markdown",
   "metadata": {},
   "source": [
    "#### 5.6 男引体"
   ]
  },
  {
   "cell_type": "code",
   "execution_count": 53,
   "metadata": {
    "ExecuteTime": {
     "end_time": "2021-07-23T06:05:35.897495Z",
     "start_time": "2021-07-23T06:05:35.893751Z"
    }
   },
   "outputs": [],
   "source": [
    "mens_final['男引体'] = data_mens['男引体']"
   ]
  },
  {
   "cell_type": "code",
   "execution_count": 56,
   "metadata": {
    "ExecuteTime": {
     "end_time": "2021-07-23T06:23:35.481233Z",
     "start_time": "2021-07-23T06:23:35.475104Z"
    }
   },
   "outputs": [],
   "source": [
    "def marking_rule_mens_yt(actual_score):\n",
    "    criteria_target = criteria[('男引体', '成绩')]\n",
    "    criterial_score = criteria[('男引体', '分数')]\n",
    "    marked_score = 0\n",
    "    if actual_score == 0:\n",
    "        marked_score = 0\n",
    "    else:\n",
    "        for i in range(criteria_target.shape[0]):\n",
    "            if actual_score  >= criteria_target[i]:\n",
    "                marked_score = criterial_score[i]\n",
    "                break\n",
    "    \n",
    "    return marked_score"
   ]
  },
  {
   "cell_type": "code",
   "execution_count": 57,
   "metadata": {
    "ExecuteTime": {
     "end_time": "2021-07-23T06:23:36.218488Z",
     "start_time": "2021-07-23T06:23:36.116693Z"
    }
   },
   "outputs": [],
   "source": [
    "mens_final['男引体分数'] = data_mens['男引体'].apply(marking_rule_mens_yt)"
   ]
  },
  {
   "cell_type": "code",
   "execution_count": 58,
   "metadata": {
    "ExecuteTime": {
     "end_time": "2021-07-23T06:23:36.919285Z",
     "start_time": "2021-07-23T06:23:36.913600Z"
    }
   },
   "outputs": [
    {
     "data": {
      "text/plain": [
       "0       0.0\n",
       "1      60.0\n",
       "2       0.0\n",
       "3       0.0\n",
       "4      68.0\n",
       "       ... \n",
       "472     0.0\n",
       "473    50.0\n",
       "474    85.0\n",
       "475    76.0\n",
       "476     0.0\n",
       "Name: 男引体分数, Length: 477, dtype: float64"
      ]
     },
     "execution_count": 58,
     "metadata": {},
     "output_type": "execute_result"
    }
   ],
   "source": [
    "mens_final['男引体分数']"
   ]
  },
  {
   "cell_type": "markdown",
   "metadata": {},
   "source": [
    "#### 5.7 男肺活量"
   ]
  },
  {
   "cell_type": "code",
   "execution_count": 60,
   "metadata": {
    "ExecuteTime": {
     "end_time": "2021-07-23T06:25:34.165372Z",
     "start_time": "2021-07-23T06:25:34.162490Z"
    }
   },
   "outputs": [],
   "source": [
    "mens_final['男肺活量'] = data_mens['男肺活量']"
   ]
  },
  {
   "cell_type": "code",
   "execution_count": 61,
   "metadata": {
    "ExecuteTime": {
     "end_time": "2021-07-23T06:25:36.232362Z",
     "start_time": "2021-07-23T06:25:36.228097Z"
    }
   },
   "outputs": [],
   "source": [
    "def marking_rule_mens_fhl(actual_score):\n",
    "    criteria_target = criteria[('男肺活量', '成绩')]\n",
    "    criterial_score = criteria[('男肺活量', '分数')]\n",
    "    marked_score = 0\n",
    "    if actual_score == 0:\n",
    "        marked_score = 0\n",
    "    else:\n",
    "        for i in range(criteria_target.shape[0]):\n",
    "            if actual_score >= criteria_target[i]:\n",
    "                marked_score = criterial_score[i]\n",
    "                break\n",
    "\n",
    "    return marked_score"
   ]
  },
  {
   "cell_type": "code",
   "execution_count": 62,
   "metadata": {
    "ExecuteTime": {
     "end_time": "2021-07-23T06:26:16.670471Z",
     "start_time": "2021-07-23T06:26:16.570707Z"
    }
   },
   "outputs": [],
   "source": [
    "mens_final['男肺活量分数'] = data_mens['男肺活量'].apply(marking_rule_mens_fhl)"
   ]
  },
  {
   "cell_type": "code",
   "execution_count": 63,
   "metadata": {
    "ExecuteTime": {
     "end_time": "2021-07-23T06:26:23.162585Z",
     "start_time": "2021-07-23T06:26:23.155735Z"
    }
   },
   "outputs": [
    {
     "data": {
      "text/plain": [
       "0       62.0\n",
       "1       68.0\n",
       "2       80.0\n",
       "3      100.0\n",
       "4       74.0\n",
       "       ...  \n",
       "472    100.0\n",
       "473    100.0\n",
       "474    100.0\n",
       "475    100.0\n",
       "476      0.0\n",
       "Name: 男肺活量分数, Length: 477, dtype: float64"
      ]
     },
     "execution_count": 63,
     "metadata": {},
     "output_type": "execute_result"
    }
   ],
   "source": [
    "mens_final['男肺活量分数']"
   ]
  },
  {
   "cell_type": "markdown",
   "metadata": {},
   "source": [
    "#### 5.8 男身高体重bmi"
   ]
  },
  {
   "cell_type": "code",
   "execution_count": 72,
   "metadata": {
    "ExecuteTime": {
     "end_time": "2021-07-23T06:31:28.573279Z",
     "start_time": "2021-07-23T06:31:28.567034Z"
    }
   },
   "outputs": [],
   "source": [
    "mens_final['身高'] = data_mens['身高']\n",
    "mens_final['体重'] = data_mens['体重']\n",
    "mens_final['BMI'] = np.round(data_mens['体重'] / np.power(data_mens['身高']/100, 2), 2)\n",
    "mens_final['BMI'] = mens_final['BMI'].replace(np.nan, 0)"
   ]
  },
  {
   "cell_type": "code",
   "execution_count": 73,
   "metadata": {
    "ExecuteTime": {
     "end_time": "2021-07-23T06:31:29.239337Z",
     "start_time": "2021-07-23T06:31:29.209641Z"
    }
   },
   "outputs": [
    {
     "data": {
      "text/html": [
       "<div>\n",
       "<style scoped>\n",
       "    .dataframe tbody tr th:only-of-type {\n",
       "        vertical-align: middle;\n",
       "    }\n",
       "\n",
       "    .dataframe tbody tr th {\n",
       "        vertical-align: top;\n",
       "    }\n",
       "\n",
       "    .dataframe thead th {\n",
       "        text-align: right;\n",
       "    }\n",
       "</style>\n",
       "<table border=\"1\" class=\"dataframe\">\n",
       "  <thead>\n",
       "    <tr style=\"text-align: right;\">\n",
       "      <th></th>\n",
       "      <th>班级</th>\n",
       "      <th>性别</th>\n",
       "      <th>男1000米跑</th>\n",
       "      <th>男1000米跑分数</th>\n",
       "      <th>男50米跑</th>\n",
       "      <th>男50米跑分数</th>\n",
       "      <th>男跳远</th>\n",
       "      <th>男跳远分数</th>\n",
       "      <th>男体前屈</th>\n",
       "      <th>男体前屈分数</th>\n",
       "      <th>男引体</th>\n",
       "      <th>男引体分数</th>\n",
       "      <th>男肺活量</th>\n",
       "      <th>男肺活量分数</th>\n",
       "      <th>身高</th>\n",
       "      <th>体重</th>\n",
       "      <th>BMI</th>\n",
       "    </tr>\n",
       "  </thead>\n",
       "  <tbody>\n",
       "    <tr>\n",
       "      <th>0</th>\n",
       "      <td>1</td>\n",
       "      <td>男</td>\n",
       "      <td>4.22</td>\n",
       "      <td>72.0</td>\n",
       "      <td>8.88</td>\n",
       "      <td>66.0</td>\n",
       "      <td>195.0</td>\n",
       "      <td>60.0</td>\n",
       "      <td>12.0</td>\n",
       "      <td>74.0</td>\n",
       "      <td>1.0</td>\n",
       "      <td>0.0</td>\n",
       "      <td>2785.0</td>\n",
       "      <td>62.0</td>\n",
       "      <td>170.0</td>\n",
       "      <td>72.6</td>\n",
       "      <td>25.12</td>\n",
       "    </tr>\n",
       "    <tr>\n",
       "      <th>1</th>\n",
       "      <td>1</td>\n",
       "      <td>男</td>\n",
       "      <td>4.27</td>\n",
       "      <td>70.0</td>\n",
       "      <td>7.70</td>\n",
       "      <td>78.0</td>\n",
       "      <td>225.0</td>\n",
       "      <td>74.0</td>\n",
       "      <td>11.0</td>\n",
       "      <td>74.0</td>\n",
       "      <td>7.0</td>\n",
       "      <td>60.0</td>\n",
       "      <td>3133.0</td>\n",
       "      <td>68.0</td>\n",
       "      <td>174.0</td>\n",
       "      <td>52.7</td>\n",
       "      <td>17.41</td>\n",
       "    </tr>\n",
       "    <tr>\n",
       "      <th>2</th>\n",
       "      <td>1</td>\n",
       "      <td>男</td>\n",
       "      <td>4.15</td>\n",
       "      <td>74.0</td>\n",
       "      <td>8.45</td>\n",
       "      <td>70.0</td>\n",
       "      <td>218.0</td>\n",
       "      <td>70.0</td>\n",
       "      <td>14.0</td>\n",
       "      <td>78.0</td>\n",
       "      <td>1.0</td>\n",
       "      <td>0.0</td>\n",
       "      <td>3901.0</td>\n",
       "      <td>80.0</td>\n",
       "      <td>169.0</td>\n",
       "      <td>46.5</td>\n",
       "      <td>16.28</td>\n",
       "    </tr>\n",
       "    <tr>\n",
       "      <th>3</th>\n",
       "      <td>1</td>\n",
       "      <td>男</td>\n",
       "      <td>4.35</td>\n",
       "      <td>68.0</td>\n",
       "      <td>8.05</td>\n",
       "      <td>74.0</td>\n",
       "      <td>206.0</td>\n",
       "      <td>64.0</td>\n",
       "      <td>13.0</td>\n",
       "      <td>76.0</td>\n",
       "      <td>1.0</td>\n",
       "      <td>0.0</td>\n",
       "      <td>4946.0</td>\n",
       "      <td>100.0</td>\n",
       "      <td>183.0</td>\n",
       "      <td>79.7</td>\n",
       "      <td>23.80</td>\n",
       "    </tr>\n",
       "    <tr>\n",
       "      <th>4</th>\n",
       "      <td>1</td>\n",
       "      <td>男</td>\n",
       "      <td>3.73</td>\n",
       "      <td>85.0</td>\n",
       "      <td>7.52</td>\n",
       "      <td>78.0</td>\n",
       "      <td>210.0</td>\n",
       "      <td>66.0</td>\n",
       "      <td>13.0</td>\n",
       "      <td>76.0</td>\n",
       "      <td>9.0</td>\n",
       "      <td>68.0</td>\n",
       "      <td>3538.0</td>\n",
       "      <td>74.0</td>\n",
       "      <td>171.0</td>\n",
       "      <td>54.7</td>\n",
       "      <td>18.71</td>\n",
       "    </tr>\n",
       "    <tr>\n",
       "      <th>...</th>\n",
       "      <td>...</td>\n",
       "      <td>...</td>\n",
       "      <td>...</td>\n",
       "      <td>...</td>\n",
       "      <td>...</td>\n",
       "      <td>...</td>\n",
       "      <td>...</td>\n",
       "      <td>...</td>\n",
       "      <td>...</td>\n",
       "      <td>...</td>\n",
       "      <td>...</td>\n",
       "      <td>...</td>\n",
       "      <td>...</td>\n",
       "      <td>...</td>\n",
       "      <td>...</td>\n",
       "      <td>...</td>\n",
       "      <td>...</td>\n",
       "    </tr>\n",
       "    <tr>\n",
       "      <th>472</th>\n",
       "      <td>17</td>\n",
       "      <td>男</td>\n",
       "      <td>4.38</td>\n",
       "      <td>68.0</td>\n",
       "      <td>8.27</td>\n",
       "      <td>72.0</td>\n",
       "      <td>208.0</td>\n",
       "      <td>66.0</td>\n",
       "      <td>10.0</td>\n",
       "      <td>72.0</td>\n",
       "      <td>0.0</td>\n",
       "      <td>0.0</td>\n",
       "      <td>4647.0</td>\n",
       "      <td>100.0</td>\n",
       "      <td>176.0</td>\n",
       "      <td>69.5</td>\n",
       "      <td>22.44</td>\n",
       "    </tr>\n",
       "    <tr>\n",
       "      <th>473</th>\n",
       "      <td>17</td>\n",
       "      <td>男</td>\n",
       "      <td>5.32</td>\n",
       "      <td>40.0</td>\n",
       "      <td>9.55</td>\n",
       "      <td>50.0</td>\n",
       "      <td>210.0</td>\n",
       "      <td>66.0</td>\n",
       "      <td>15.0</td>\n",
       "      <td>80.0</td>\n",
       "      <td>6.0</td>\n",
       "      <td>50.0</td>\n",
       "      <td>7042.0</td>\n",
       "      <td>100.0</td>\n",
       "      <td>177.0</td>\n",
       "      <td>76.0</td>\n",
       "      <td>24.26</td>\n",
       "    </tr>\n",
       "    <tr>\n",
       "      <th>474</th>\n",
       "      <td>17</td>\n",
       "      <td>男</td>\n",
       "      <td>3.42</td>\n",
       "      <td>100.0</td>\n",
       "      <td>7.50</td>\n",
       "      <td>80.0</td>\n",
       "      <td>252.0</td>\n",
       "      <td>90.0</td>\n",
       "      <td>13.0</td>\n",
       "      <td>76.0</td>\n",
       "      <td>13.0</td>\n",
       "      <td>85.0</td>\n",
       "      <td>5755.0</td>\n",
       "      <td>100.0</td>\n",
       "      <td>181.0</td>\n",
       "      <td>65.0</td>\n",
       "      <td>19.84</td>\n",
       "    </tr>\n",
       "    <tr>\n",
       "      <th>475</th>\n",
       "      <td>17</td>\n",
       "      <td>男</td>\n",
       "      <td>4.65</td>\n",
       "      <td>62.0</td>\n",
       "      <td>7.81</td>\n",
       "      <td>76.0</td>\n",
       "      <td>208.0</td>\n",
       "      <td>66.0</td>\n",
       "      <td>14.0</td>\n",
       "      <td>78.0</td>\n",
       "      <td>11.0</td>\n",
       "      <td>76.0</td>\n",
       "      <td>5688.0</td>\n",
       "      <td>100.0</td>\n",
       "      <td>172.0</td>\n",
       "      <td>51.7</td>\n",
       "      <td>17.48</td>\n",
       "    </tr>\n",
       "    <tr>\n",
       "      <th>476</th>\n",
       "      <td>17</td>\n",
       "      <td>男</td>\n",
       "      <td>0.00</td>\n",
       "      <td>0.0</td>\n",
       "      <td>0.00</td>\n",
       "      <td>0.0</td>\n",
       "      <td>0.0</td>\n",
       "      <td>0.0</td>\n",
       "      <td>0.0</td>\n",
       "      <td>0.0</td>\n",
       "      <td>0.0</td>\n",
       "      <td>0.0</td>\n",
       "      <td>0.0</td>\n",
       "      <td>0.0</td>\n",
       "      <td>0.0</td>\n",
       "      <td>0.0</td>\n",
       "      <td>0.00</td>\n",
       "    </tr>\n",
       "  </tbody>\n",
       "</table>\n",
       "<p>477 rows × 17 columns</p>\n",
       "</div>"
      ],
      "text/plain": [
       "     班级 性别  男1000米跑  男1000米跑分数  男50米跑  男50米跑分数    男跳远  男跳远分数  男体前屈  男体前屈分数  \\\n",
       "0     1  男     4.22       72.0   8.88     66.0  195.0   60.0  12.0    74.0   \n",
       "1     1  男     4.27       70.0   7.70     78.0  225.0   74.0  11.0    74.0   \n",
       "2     1  男     4.15       74.0   8.45     70.0  218.0   70.0  14.0    78.0   \n",
       "3     1  男     4.35       68.0   8.05     74.0  206.0   64.0  13.0    76.0   \n",
       "4     1  男     3.73       85.0   7.52     78.0  210.0   66.0  13.0    76.0   \n",
       "..   .. ..      ...        ...    ...      ...    ...    ...   ...     ...   \n",
       "472  17  男     4.38       68.0   8.27     72.0  208.0   66.0  10.0    72.0   \n",
       "473  17  男     5.32       40.0   9.55     50.0  210.0   66.0  15.0    80.0   \n",
       "474  17  男     3.42      100.0   7.50     80.0  252.0   90.0  13.0    76.0   \n",
       "475  17  男     4.65       62.0   7.81     76.0  208.0   66.0  14.0    78.0   \n",
       "476  17  男     0.00        0.0   0.00      0.0    0.0    0.0   0.0     0.0   \n",
       "\n",
       "      男引体  男引体分数    男肺活量  男肺活量分数     身高    体重    BMI  \n",
       "0     1.0    0.0  2785.0    62.0  170.0  72.6  25.12  \n",
       "1     7.0   60.0  3133.0    68.0  174.0  52.7  17.41  \n",
       "2     1.0    0.0  3901.0    80.0  169.0  46.5  16.28  \n",
       "3     1.0    0.0  4946.0   100.0  183.0  79.7  23.80  \n",
       "4     9.0   68.0  3538.0    74.0  171.0  54.7  18.71  \n",
       "..    ...    ...     ...     ...    ...   ...    ...  \n",
       "472   0.0    0.0  4647.0   100.0  176.0  69.5  22.44  \n",
       "473   6.0   50.0  7042.0   100.0  177.0  76.0  24.26  \n",
       "474  13.0   85.0  5755.0   100.0  181.0  65.0  19.84  \n",
       "475  11.0   76.0  5688.0   100.0  172.0  51.7  17.48  \n",
       "476   0.0    0.0     0.0     0.0    0.0   0.0   0.00  \n",
       "\n",
       "[477 rows x 17 columns]"
      ]
     },
     "execution_count": 73,
     "metadata": {},
     "output_type": "execute_result"
    }
   ],
   "source": [
    "mens_final"
   ]
  },
  {
   "cell_type": "markdown",
   "metadata": {},
   "source": [
    "#### 5.9 女班级性别"
   ]
  },
  {
   "cell_type": "code",
   "execution_count": 76,
   "metadata": {
    "ExecuteTime": {
     "end_time": "2021-07-23T06:33:51.166931Z",
     "start_time": "2021-07-23T06:33:51.162247Z"
    }
   },
   "outputs": [],
   "source": [
    "womens_final['班级'] = data_womens['班级']\n",
    "womens_final['性别'] = data_womens['性别']"
   ]
  },
  {
   "cell_type": "markdown",
   "metadata": {},
   "source": [
    "#### 5.10 女800米跑"
   ]
  },
  {
   "cell_type": "code",
   "execution_count": 78,
   "metadata": {
    "ExecuteTime": {
     "end_time": "2021-07-23T06:36:08.783133Z",
     "start_time": "2021-07-23T06:36:08.780260Z"
    }
   },
   "outputs": [],
   "source": [
    "womens_final['女800米跑'] = data_womens['女800米跑']"
   ]
  },
  {
   "cell_type": "code",
   "execution_count": 79,
   "metadata": {
    "ExecuteTime": {
     "end_time": "2021-07-23T06:36:09.304900Z",
     "start_time": "2021-07-23T06:36:09.300667Z"
    }
   },
   "outputs": [],
   "source": [
    "def marking_rule_womens_800(actual_score):\n",
    "    criteria_target = criteria[('女800米跑', '成绩')]\n",
    "    criterial_score = criteria[('女800米跑', '分数')]\n",
    "    marked_score = 0\n",
    "    if actual_score == 0:\n",
    "        marked_score = 0\n",
    "    else:\n",
    "        for i in range(criteria_target.shape[0]):\n",
    "            if actual_score  <= criteria_target[i]:\n",
    "                marked_score = criterial_score[i]\n",
    "                break\n",
    "    \n",
    "    return marked_score"
   ]
  },
  {
   "cell_type": "code",
   "execution_count": 80,
   "metadata": {
    "ExecuteTime": {
     "end_time": "2021-07-23T06:36:09.945742Z",
     "start_time": "2021-07-23T06:36:09.834545Z"
    }
   },
   "outputs": [],
   "source": [
    "womens_final['女800米跑分数'] = data_womens['女800米跑'].apply(marking_rule_womens_800)"
   ]
  },
  {
   "cell_type": "code",
   "execution_count": 81,
   "metadata": {
    "ExecuteTime": {
     "end_time": "2021-07-23T06:36:10.770309Z",
     "start_time": "2021-07-23T06:36:10.764794Z"
    }
   },
   "outputs": [
    {
     "data": {
      "text/plain": [
       "0      100.0\n",
       "1       60.0\n",
       "2       95.0\n",
       "3      100.0\n",
       "4       95.0\n",
       "       ...  \n",
       "588     90.0\n",
       "589     76.0\n",
       "590     95.0\n",
       "591     74.0\n",
       "592     64.0\n",
       "Name: 女800米跑分数, Length: 593, dtype: float64"
      ]
     },
     "execution_count": 81,
     "metadata": {},
     "output_type": "execute_result"
    }
   ],
   "source": [
    "womens_final['女800米跑分数']"
   ]
  },
  {
   "cell_type": "code",
   "execution_count": 82,
   "metadata": {
    "ExecuteTime": {
     "end_time": "2021-07-23T06:37:19.996505Z",
     "start_time": "2021-07-23T06:37:19.991205Z"
    }
   },
   "outputs": [
    {
     "data": {
      "text/plain": [
       "0      3.22\n",
       "1      4.59\n",
       "2      3.46\n",
       "3      3.39\n",
       "4      3.43\n",
       "       ... \n",
       "588    3.51\n",
       "589    4.00\n",
       "590    3.45\n",
       "591    4.01\n",
       "592    4.48\n",
       "Name: 女800米跑, Length: 593, dtype: float64"
      ]
     },
     "execution_count": 82,
     "metadata": {},
     "output_type": "execute_result"
    }
   ],
   "source": [
    "womens_final['女800米跑']"
   ]
  },
  {
   "cell_type": "markdown",
   "metadata": {},
   "source": [
    "#### 5.11 女50米跑"
   ]
  },
  {
   "cell_type": "code",
   "execution_count": 83,
   "metadata": {
    "ExecuteTime": {
     "end_time": "2021-07-23T06:49:29.200381Z",
     "start_time": "2021-07-23T06:49:29.197798Z"
    }
   },
   "outputs": [],
   "source": [
    "womens_final['女50米跑'] = data_womens['女50米跑']"
   ]
  },
  {
   "cell_type": "code",
   "execution_count": 84,
   "metadata": {
    "ExecuteTime": {
     "end_time": "2021-07-23T06:49:29.869262Z",
     "start_time": "2021-07-23T06:49:29.864826Z"
    }
   },
   "outputs": [],
   "source": [
    "def marking_rule_womens_50(actual_score):\n",
    "    criteria_target = criteria[('女50米跑', '成绩')]\n",
    "    criterial_score = criteria[('女50米跑', '分数')]\n",
    "    marked_score = 0\n",
    "    if actual_score == 0:\n",
    "        marked_score = 0\n",
    "    else:\n",
    "        for i in range(criteria_target.shape[0]):\n",
    "            if actual_score  <= criteria_target[i]:\n",
    "                marked_score = criterial_score[i]\n",
    "                break\n",
    "    \n",
    "    return marked_score"
   ]
  },
  {
   "cell_type": "code",
   "execution_count": 85,
   "metadata": {
    "ExecuteTime": {
     "end_time": "2021-07-23T06:49:30.649074Z",
     "start_time": "2021-07-23T06:49:30.530610Z"
    }
   },
   "outputs": [],
   "source": [
    "womens_final['女50米跑分数'] = data_womens['女50米跑'].apply(marking_rule_womens_50)"
   ]
  },
  {
   "cell_type": "code",
   "execution_count": 86,
   "metadata": {
    "ExecuteTime": {
     "end_time": "2021-07-23T06:49:31.028187Z",
     "start_time": "2021-07-23T06:49:31.022088Z"
    }
   },
   "outputs": [
    {
     "data": {
      "text/plain": [
       "0      72.0\n",
       "1      10.0\n",
       "2       0.0\n",
       "3      70.0\n",
       "4      68.0\n",
       "       ... \n",
       "588    70.0\n",
       "589    64.0\n",
       "590    64.0\n",
       "591    68.0\n",
       "592    74.0\n",
       "Name: 女50米跑分数, Length: 593, dtype: float64"
      ]
     },
     "execution_count": 86,
     "metadata": {},
     "output_type": "execute_result"
    }
   ],
   "source": [
    "womens_final['女50米跑分数']"
   ]
  },
  {
   "cell_type": "markdown",
   "metadata": {},
   "source": [
    "#### 5.12 女跳远"
   ]
  },
  {
   "cell_type": "code",
   "execution_count": 87,
   "metadata": {
    "ExecuteTime": {
     "end_time": "2021-07-23T06:52:02.217645Z",
     "start_time": "2021-07-23T06:52:02.214635Z"
    }
   },
   "outputs": [],
   "source": [
    "womens_final['女跳远'] = data_womens['女跳远']"
   ]
  },
  {
   "cell_type": "code",
   "execution_count": 88,
   "metadata": {
    "ExecuteTime": {
     "end_time": "2021-07-23T06:52:02.942411Z",
     "start_time": "2021-07-23T06:52:02.937888Z"
    }
   },
   "outputs": [],
   "source": [
    "def marking_rule_womens_ty(actual_score):\n",
    "    criteria_target = criteria[('女跳远', '成绩')]\n",
    "    criterial_score = criteria[('女跳远', '分数')]\n",
    "    marked_score = 0\n",
    "    if actual_score == 0:\n",
    "        marked_score = 0\n",
    "    else:\n",
    "        for i in range(criteria_target.shape[0]):\n",
    "            if actual_score  >= criteria_target[i]:\n",
    "                marked_score = criterial_score[i]\n",
    "                break\n",
    "    \n",
    "    return marked_score"
   ]
  },
  {
   "cell_type": "code",
   "execution_count": 89,
   "metadata": {
    "ExecuteTime": {
     "end_time": "2021-07-23T06:52:03.590357Z",
     "start_time": "2021-07-23T06:52:03.462540Z"
    }
   },
   "outputs": [],
   "source": [
    "womens_final['女跳远分数'] = data_womens['女跳远'].apply(marking_rule_womens_ty)"
   ]
  },
  {
   "cell_type": "code",
   "execution_count": 90,
   "metadata": {
    "ExecuteTime": {
     "end_time": "2021-07-23T06:52:04.125121Z",
     "start_time": "2021-07-23T06:52:04.119496Z"
    }
   },
   "outputs": [
    {
     "data": {
      "text/plain": [
       "0      85.0\n",
       "1      60.0\n",
       "2      60.0\n",
       "3      76.0\n",
       "4      50.0\n",
       "       ... \n",
       "588    60.0\n",
       "589    60.0\n",
       "590    62.0\n",
       "591    70.0\n",
       "592    80.0\n",
       "Name: 女跳远分数, Length: 593, dtype: float64"
      ]
     },
     "execution_count": 90,
     "metadata": {},
     "output_type": "execute_result"
    }
   ],
   "source": [
    "womens_final['女跳远分数']"
   ]
  },
  {
   "cell_type": "markdown",
   "metadata": {},
   "source": [
    "#### 5.13 女体前屈"
   ]
  },
  {
   "cell_type": "code",
   "execution_count": 91,
   "metadata": {
    "ExecuteTime": {
     "end_time": "2021-07-23T06:54:06.976875Z",
     "start_time": "2021-07-23T06:54:06.973638Z"
    }
   },
   "outputs": [],
   "source": [
    "womens_final['女体前屈'] = data_womens['女体前屈']"
   ]
  },
  {
   "cell_type": "code",
   "execution_count": 92,
   "metadata": {
    "ExecuteTime": {
     "end_time": "2021-07-23T06:54:07.442880Z",
     "start_time": "2021-07-23T06:54:07.438731Z"
    }
   },
   "outputs": [],
   "source": [
    "def marking_rule_womens_tqq(actual_score):\n",
    "    criteria_target = criteria[('女体前屈', '成绩')]\n",
    "    criterial_score = criteria[('女体前屈', '分数')]\n",
    "    marked_score = 0\n",
    "    if actual_score == 0:\n",
    "        marked_score = 0\n",
    "    else:\n",
    "        for i in range(criteria_target.shape[0]):\n",
    "            if actual_score  >= criteria_target[i]:\n",
    "                marked_score = criterial_score[i]\n",
    "                break\n",
    "    \n",
    "    return marked_score"
   ]
  },
  {
   "cell_type": "code",
   "execution_count": 93,
   "metadata": {
    "ExecuteTime": {
     "end_time": "2021-07-23T06:54:07.990961Z",
     "start_time": "2021-07-23T06:54:07.871519Z"
    }
   },
   "outputs": [],
   "source": [
    "womens_final['女体前屈分数'] = data_womens['女体前屈'].apply(marking_rule_womens_tqq)"
   ]
  },
  {
   "cell_type": "code",
   "execution_count": 94,
   "metadata": {
    "ExecuteTime": {
     "end_time": "2021-07-23T06:54:08.321770Z",
     "start_time": "2021-07-23T06:54:08.315516Z"
    }
   },
   "outputs": [
    {
     "data": {
      "text/plain": [
       "0      76.0\n",
       "1      66.0\n",
       "2      64.0\n",
       "3      90.0\n",
       "4      64.0\n",
       "       ... \n",
       "588    95.0\n",
       "589    72.0\n",
       "590    76.0\n",
       "591    68.0\n",
       "592    68.0\n",
       "Name: 女体前屈分数, Length: 593, dtype: float64"
      ]
     },
     "execution_count": 94,
     "metadata": {},
     "output_type": "execute_result"
    }
   ],
   "source": [
    "womens_final['女体前屈分数'] "
   ]
  },
  {
   "cell_type": "markdown",
   "metadata": {},
   "source": [
    "#### 5.14 女仰卧"
   ]
  },
  {
   "cell_type": "code",
   "execution_count": 95,
   "metadata": {
    "ExecuteTime": {
     "end_time": "2021-07-23T06:57:51.347085Z",
     "start_time": "2021-07-23T06:57:51.343672Z"
    }
   },
   "outputs": [],
   "source": [
    "womens_final['女仰卧'] = data_womens['女仰卧']"
   ]
  },
  {
   "cell_type": "code",
   "execution_count": 96,
   "metadata": {
    "ExecuteTime": {
     "end_time": "2021-07-23T06:57:52.229425Z",
     "start_time": "2021-07-23T06:57:52.224817Z"
    }
   },
   "outputs": [],
   "source": [
    "def marking_rule_womens_yw(actual_score):\n",
    "    criteria_target = criteria[('女仰卧', '成绩')]\n",
    "    criterial_score = criteria[('女仰卧', '分数')]\n",
    "    marked_score = 0\n",
    "    if actual_score == 0:\n",
    "        marked_score = 0\n",
    "    else:\n",
    "        for i in range(criteria_target.shape[0]):\n",
    "            if actual_score  >= criteria_target[i]:\n",
    "                marked_score = criterial_score[i]\n",
    "                break\n",
    "    \n",
    "    return marked_score"
   ]
  },
  {
   "cell_type": "code",
   "execution_count": 99,
   "metadata": {
    "ExecuteTime": {
     "end_time": "2021-07-23T06:58:02.487152Z",
     "start_time": "2021-07-23T06:58:02.360542Z"
    }
   },
   "outputs": [],
   "source": [
    "womens_final['女仰卧分数'] = data_womens['女仰卧'].apply(marking_rule_womens_yw)"
   ]
  },
  {
   "cell_type": "code",
   "execution_count": 100,
   "metadata": {
    "ExecuteTime": {
     "end_time": "2021-07-23T06:58:02.926218Z",
     "start_time": "2021-07-23T06:58:02.920587Z"
    }
   },
   "outputs": [
    {
     "data": {
      "text/plain": [
       "0      85.0\n",
       "1      66.0\n",
       "2      76.0\n",
       "3      85.0\n",
       "4      70.0\n",
       "       ... \n",
       "588    78.0\n",
       "589    72.0\n",
       "590    72.0\n",
       "591    78.0\n",
       "592    85.0\n",
       "Name: 女仰卧分数, Length: 593, dtype: float64"
      ]
     },
     "execution_count": 100,
     "metadata": {},
     "output_type": "execute_result"
    }
   ],
   "source": [
    "womens_final['女仰卧分数'] "
   ]
  },
  {
   "cell_type": "markdown",
   "metadata": {},
   "source": [
    "#### 5.15 女肺活量"
   ]
  },
  {
   "cell_type": "code",
   "execution_count": 101,
   "metadata": {
    "ExecuteTime": {
     "end_time": "2021-07-23T07:18:59.120549Z",
     "start_time": "2021-07-23T07:18:59.117404Z"
    }
   },
   "outputs": [],
   "source": [
    "womens_final['女肺活量'] = data_womens['女肺活量']"
   ]
  },
  {
   "cell_type": "code",
   "execution_count": 102,
   "metadata": {
    "ExecuteTime": {
     "end_time": "2021-07-23T07:18:59.734155Z",
     "start_time": "2021-07-23T07:18:59.729619Z"
    }
   },
   "outputs": [],
   "source": [
    "def marking_rule_womens_fhl(actual_score):\n",
    "    criteria_target = criteria[('女肺活量', '成绩')]\n",
    "    criterial_score = criteria[('女肺活量', '分数')]\n",
    "    marked_score = 0\n",
    "    if actual_score == 0:\n",
    "        marked_score = 0\n",
    "    else:\n",
    "        for i in range(criteria_target.shape[0]):\n",
    "            if actual_score >= criteria_target[i]:\n",
    "                marked_score = criterial_score[i]\n",
    "                break\n",
    "\n",
    "    return marked_score"
   ]
  },
  {
   "cell_type": "code",
   "execution_count": 103,
   "metadata": {
    "ExecuteTime": {
     "end_time": "2021-07-23T07:19:00.378389Z",
     "start_time": "2021-07-23T07:19:00.267396Z"
    }
   },
   "outputs": [],
   "source": [
    "womens_final['女肺活量分数'] = data_womens['女肺活量'].apply(marking_rule_womens_fhl)"
   ]
  },
  {
   "cell_type": "code",
   "execution_count": 104,
   "metadata": {
    "ExecuteTime": {
     "end_time": "2021-07-23T07:19:00.759536Z",
     "start_time": "2021-07-23T07:19:00.753757Z"
    }
   },
   "outputs": [
    {
     "data": {
      "text/plain": [
       "0      100.0\n",
       "1      100.0\n",
       "2      100.0\n",
       "3      100.0\n",
       "4      100.0\n",
       "       ...  \n",
       "588     70.0\n",
       "589     85.0\n",
       "590     76.0\n",
       "591     60.0\n",
       "592     85.0\n",
       "Name: 女肺活量分数, Length: 593, dtype: float64"
      ]
     },
     "execution_count": 104,
     "metadata": {},
     "output_type": "execute_result"
    }
   ],
   "source": [
    "womens_final['女肺活量分数']"
   ]
  },
  {
   "cell_type": "markdown",
   "metadata": {},
   "source": [
    "#### 5.16 女身高体重bmi"
   ]
  },
  {
   "cell_type": "code",
   "execution_count": 106,
   "metadata": {
    "ExecuteTime": {
     "end_time": "2021-07-23T07:20:33.338875Z",
     "start_time": "2021-07-23T07:20:33.332800Z"
    }
   },
   "outputs": [],
   "source": [
    "womens_final['身高'] = data_womens['身高']\n",
    "womens_final['体重'] = data_womens['体重']\n",
    "womens_final['BMI'] = np.round(data_womens['体重'] / np.power(data_womens['身高']/100, 2), 2)\n",
    "womens_final['BMI'] = womens_final['BMI'].replace(np.nan, 0)"
   ]
  },
  {
   "cell_type": "code",
   "execution_count": 108,
   "metadata": {
    "ExecuteTime": {
     "end_time": "2021-07-23T07:20:44.780051Z",
     "start_time": "2021-07-23T07:20:44.747628Z"
    }
   },
   "outputs": [
    {
     "data": {
      "text/html": [
       "<div>\n",
       "<style scoped>\n",
       "    .dataframe tbody tr th:only-of-type {\n",
       "        vertical-align: middle;\n",
       "    }\n",
       "\n",
       "    .dataframe tbody tr th {\n",
       "        vertical-align: top;\n",
       "    }\n",
       "\n",
       "    .dataframe thead th {\n",
       "        text-align: right;\n",
       "    }\n",
       "</style>\n",
       "<table border=\"1\" class=\"dataframe\">\n",
       "  <thead>\n",
       "    <tr style=\"text-align: right;\">\n",
       "      <th></th>\n",
       "      <th>班级</th>\n",
       "      <th>性别</th>\n",
       "      <th>女800米跑</th>\n",
       "      <th>女800米跑分数</th>\n",
       "      <th>女50米跑</th>\n",
       "      <th>女50米跑分数</th>\n",
       "      <th>女跳远</th>\n",
       "      <th>女跳远分数</th>\n",
       "      <th>女体前屈</th>\n",
       "      <th>女体前屈分数</th>\n",
       "      <th>女仰卧</th>\n",
       "      <th>女仰卧分数</th>\n",
       "      <th>女肺活量</th>\n",
       "      <th>女肺活量分数</th>\n",
       "      <th>身高</th>\n",
       "      <th>体重</th>\n",
       "      <th>BMI</th>\n",
       "    </tr>\n",
       "  </thead>\n",
       "  <tbody>\n",
       "    <tr>\n",
       "      <th>0</th>\n",
       "      <td>1</td>\n",
       "      <td>女</td>\n",
       "      <td>3.22</td>\n",
       "      <td>100.0</td>\n",
       "      <td>9.32</td>\n",
       "      <td>72.0</td>\n",
       "      <td>185.0</td>\n",
       "      <td>85.0</td>\n",
       "      <td>16.0</td>\n",
       "      <td>76.0</td>\n",
       "      <td>48.0</td>\n",
       "      <td>85.0</td>\n",
       "      <td>3775.0</td>\n",
       "      <td>100.0</td>\n",
       "      <td>163.0</td>\n",
       "      <td>51.3</td>\n",
       "      <td>19.31</td>\n",
       "    </tr>\n",
       "    <tr>\n",
       "      <th>1</th>\n",
       "      <td>1</td>\n",
       "      <td>女</td>\n",
       "      <td>4.59</td>\n",
       "      <td>60.0</td>\n",
       "      <td>11.44</td>\n",
       "      <td>10.0</td>\n",
       "      <td>148.0</td>\n",
       "      <td>60.0</td>\n",
       "      <td>9.0</td>\n",
       "      <td>66.0</td>\n",
       "      <td>29.0</td>\n",
       "      <td>66.0</td>\n",
       "      <td>3683.0</td>\n",
       "      <td>100.0</td>\n",
       "      <td>163.0</td>\n",
       "      <td>66.6</td>\n",
       "      <td>25.07</td>\n",
       "    </tr>\n",
       "    <tr>\n",
       "      <th>2</th>\n",
       "      <td>1</td>\n",
       "      <td>女</td>\n",
       "      <td>3.46</td>\n",
       "      <td>95.0</td>\n",
       "      <td>13.40</td>\n",
       "      <td>0.0</td>\n",
       "      <td>150.0</td>\n",
       "      <td>60.0</td>\n",
       "      <td>7.0</td>\n",
       "      <td>64.0</td>\n",
       "      <td>40.0</td>\n",
       "      <td>76.0</td>\n",
       "      <td>3331.0</td>\n",
       "      <td>100.0</td>\n",
       "      <td>157.0</td>\n",
       "      <td>60.0</td>\n",
       "      <td>24.34</td>\n",
       "    </tr>\n",
       "    <tr>\n",
       "      <th>3</th>\n",
       "      <td>1</td>\n",
       "      <td>女</td>\n",
       "      <td>3.39</td>\n",
       "      <td>100.0</td>\n",
       "      <td>9.52</td>\n",
       "      <td>70.0</td>\n",
       "      <td>172.0</td>\n",
       "      <td>76.0</td>\n",
       "      <td>21.0</td>\n",
       "      <td>90.0</td>\n",
       "      <td>46.0</td>\n",
       "      <td>85.0</td>\n",
       "      <td>3701.0</td>\n",
       "      <td>100.0</td>\n",
       "      <td>160.0</td>\n",
       "      <td>50.7</td>\n",
       "      <td>19.80</td>\n",
       "    </tr>\n",
       "    <tr>\n",
       "      <th>4</th>\n",
       "      <td>1</td>\n",
       "      <td>女</td>\n",
       "      <td>3.43</td>\n",
       "      <td>95.0</td>\n",
       "      <td>9.79</td>\n",
       "      <td>68.0</td>\n",
       "      <td>145.0</td>\n",
       "      <td>50.0</td>\n",
       "      <td>8.0</td>\n",
       "      <td>64.0</td>\n",
       "      <td>34.0</td>\n",
       "      <td>70.0</td>\n",
       "      <td>3592.0</td>\n",
       "      <td>100.0</td>\n",
       "      <td>167.0</td>\n",
       "      <td>63.9</td>\n",
       "      <td>22.91</td>\n",
       "    </tr>\n",
       "    <tr>\n",
       "      <th>...</th>\n",
       "      <td>...</td>\n",
       "      <td>...</td>\n",
       "      <td>...</td>\n",
       "      <td>...</td>\n",
       "      <td>...</td>\n",
       "      <td>...</td>\n",
       "      <td>...</td>\n",
       "      <td>...</td>\n",
       "      <td>...</td>\n",
       "      <td>...</td>\n",
       "      <td>...</td>\n",
       "      <td>...</td>\n",
       "      <td>...</td>\n",
       "      <td>...</td>\n",
       "      <td>...</td>\n",
       "      <td>...</td>\n",
       "      <td>...</td>\n",
       "    </tr>\n",
       "    <tr>\n",
       "      <th>588</th>\n",
       "      <td>17</td>\n",
       "      <td>女</td>\n",
       "      <td>3.51</td>\n",
       "      <td>90.0</td>\n",
       "      <td>9.60</td>\n",
       "      <td>70.0</td>\n",
       "      <td>150.0</td>\n",
       "      <td>60.0</td>\n",
       "      <td>24.0</td>\n",
       "      <td>95.0</td>\n",
       "      <td>41.0</td>\n",
       "      <td>78.0</td>\n",
       "      <td>2255.0</td>\n",
       "      <td>70.0</td>\n",
       "      <td>158.0</td>\n",
       "      <td>49.0</td>\n",
       "      <td>19.63</td>\n",
       "    </tr>\n",
       "    <tr>\n",
       "      <th>589</th>\n",
       "      <td>17</td>\n",
       "      <td>女</td>\n",
       "      <td>4.00</td>\n",
       "      <td>76.0</td>\n",
       "      <td>10.18</td>\n",
       "      <td>64.0</td>\n",
       "      <td>150.0</td>\n",
       "      <td>60.0</td>\n",
       "      <td>13.0</td>\n",
       "      <td>72.0</td>\n",
       "      <td>36.0</td>\n",
       "      <td>72.0</td>\n",
       "      <td>2937.0</td>\n",
       "      <td>85.0</td>\n",
       "      <td>161.0</td>\n",
       "      <td>55.7</td>\n",
       "      <td>21.49</td>\n",
       "    </tr>\n",
       "    <tr>\n",
       "      <th>590</th>\n",
       "      <td>17</td>\n",
       "      <td>女</td>\n",
       "      <td>3.45</td>\n",
       "      <td>95.0</td>\n",
       "      <td>10.18</td>\n",
       "      <td>64.0</td>\n",
       "      <td>152.0</td>\n",
       "      <td>62.0</td>\n",
       "      <td>15.0</td>\n",
       "      <td>76.0</td>\n",
       "      <td>35.0</td>\n",
       "      <td>72.0</td>\n",
       "      <td>2592.0</td>\n",
       "      <td>76.0</td>\n",
       "      <td>165.0</td>\n",
       "      <td>48.6</td>\n",
       "      <td>17.85</td>\n",
       "    </tr>\n",
       "    <tr>\n",
       "      <th>591</th>\n",
       "      <td>17</td>\n",
       "      <td>女</td>\n",
       "      <td>4.01</td>\n",
       "      <td>74.0</td>\n",
       "      <td>9.67</td>\n",
       "      <td>68.0</td>\n",
       "      <td>165.0</td>\n",
       "      <td>70.0</td>\n",
       "      <td>10.0</td>\n",
       "      <td>68.0</td>\n",
       "      <td>41.0</td>\n",
       "      <td>78.0</td>\n",
       "      <td>1829.0</td>\n",
       "      <td>60.0</td>\n",
       "      <td>154.0</td>\n",
       "      <td>43.6</td>\n",
       "      <td>18.38</td>\n",
       "    </tr>\n",
       "    <tr>\n",
       "      <th>592</th>\n",
       "      <td>17</td>\n",
       "      <td>女</td>\n",
       "      <td>4.48</td>\n",
       "      <td>64.0</td>\n",
       "      <td>9.09</td>\n",
       "      <td>74.0</td>\n",
       "      <td>180.0</td>\n",
       "      <td>80.0</td>\n",
       "      <td>10.0</td>\n",
       "      <td>68.0</td>\n",
       "      <td>46.0</td>\n",
       "      <td>85.0</td>\n",
       "      <td>2962.0</td>\n",
       "      <td>85.0</td>\n",
       "      <td>162.0</td>\n",
       "      <td>55.3</td>\n",
       "      <td>21.07</td>\n",
       "    </tr>\n",
       "  </tbody>\n",
       "</table>\n",
       "<p>593 rows × 17 columns</p>\n",
       "</div>"
      ],
      "text/plain": [
       "     班级 性别  女800米跑  女800米跑分数  女50米跑  女50米跑分数    女跳远  女跳远分数  女体前屈  女体前屈分数  \\\n",
       "0     1  女    3.22     100.0   9.32     72.0  185.0   85.0  16.0    76.0   \n",
       "1     1  女    4.59      60.0  11.44     10.0  148.0   60.0   9.0    66.0   \n",
       "2     1  女    3.46      95.0  13.40      0.0  150.0   60.0   7.0    64.0   \n",
       "3     1  女    3.39     100.0   9.52     70.0  172.0   76.0  21.0    90.0   \n",
       "4     1  女    3.43      95.0   9.79     68.0  145.0   50.0   8.0    64.0   \n",
       "..   .. ..     ...       ...    ...      ...    ...    ...   ...     ...   \n",
       "588  17  女    3.51      90.0   9.60     70.0  150.0   60.0  24.0    95.0   \n",
       "589  17  女    4.00      76.0  10.18     64.0  150.0   60.0  13.0    72.0   \n",
       "590  17  女    3.45      95.0  10.18     64.0  152.0   62.0  15.0    76.0   \n",
       "591  17  女    4.01      74.0   9.67     68.0  165.0   70.0  10.0    68.0   \n",
       "592  17  女    4.48      64.0   9.09     74.0  180.0   80.0  10.0    68.0   \n",
       "\n",
       "      女仰卧  女仰卧分数    女肺活量  女肺活量分数     身高    体重    BMI  \n",
       "0    48.0   85.0  3775.0   100.0  163.0  51.3  19.31  \n",
       "1    29.0   66.0  3683.0   100.0  163.0  66.6  25.07  \n",
       "2    40.0   76.0  3331.0   100.0  157.0  60.0  24.34  \n",
       "3    46.0   85.0  3701.0   100.0  160.0  50.7  19.80  \n",
       "4    34.0   70.0  3592.0   100.0  167.0  63.9  22.91  \n",
       "..    ...    ...     ...     ...    ...   ...    ...  \n",
       "588  41.0   78.0  2255.0    70.0  158.0  49.0  19.63  \n",
       "589  36.0   72.0  2937.0    85.0  161.0  55.7  21.49  \n",
       "590  35.0   72.0  2592.0    76.0  165.0  48.6  17.85  \n",
       "591  41.0   78.0  1829.0    60.0  154.0  43.6  18.38  \n",
       "592  46.0   85.0  2962.0    85.0  162.0  55.3  21.07  \n",
       "\n",
       "[593 rows x 17 columns]"
      ]
     },
     "execution_count": 108,
     "metadata": {},
     "output_type": "execute_result"
    }
   ],
   "source": [
    "womens_final"
   ]
  },
  {
   "cell_type": "markdown",
   "metadata": {},
   "source": [
    "#### 5.17 最终结果"
   ]
  },
  {
   "cell_type": "code",
   "execution_count": 109,
   "metadata": {
    "ExecuteTime": {
     "end_time": "2021-07-23T07:21:01.139766Z",
     "start_time": "2021-07-23T07:21:01.109827Z"
    }
   },
   "outputs": [
    {
     "data": {
      "text/html": [
       "<div>\n",
       "<style scoped>\n",
       "    .dataframe tbody tr th:only-of-type {\n",
       "        vertical-align: middle;\n",
       "    }\n",
       "\n",
       "    .dataframe tbody tr th {\n",
       "        vertical-align: top;\n",
       "    }\n",
       "\n",
       "    .dataframe thead th {\n",
       "        text-align: right;\n",
       "    }\n",
       "</style>\n",
       "<table border=\"1\" class=\"dataframe\">\n",
       "  <thead>\n",
       "    <tr style=\"text-align: right;\">\n",
       "      <th></th>\n",
       "      <th>班级</th>\n",
       "      <th>性别</th>\n",
       "      <th>男1000米跑</th>\n",
       "      <th>男1000米跑分数</th>\n",
       "      <th>男50米跑</th>\n",
       "      <th>男50米跑分数</th>\n",
       "      <th>男跳远</th>\n",
       "      <th>男跳远分数</th>\n",
       "      <th>男体前屈</th>\n",
       "      <th>男体前屈分数</th>\n",
       "      <th>男引体</th>\n",
       "      <th>男引体分数</th>\n",
       "      <th>男肺活量</th>\n",
       "      <th>男肺活量分数</th>\n",
       "      <th>身高</th>\n",
       "      <th>体重</th>\n",
       "      <th>BMI</th>\n",
       "    </tr>\n",
       "  </thead>\n",
       "  <tbody>\n",
       "    <tr>\n",
       "      <th>0</th>\n",
       "      <td>1</td>\n",
       "      <td>男</td>\n",
       "      <td>4.22</td>\n",
       "      <td>72.0</td>\n",
       "      <td>8.88</td>\n",
       "      <td>66.0</td>\n",
       "      <td>195.0</td>\n",
       "      <td>60.0</td>\n",
       "      <td>12.0</td>\n",
       "      <td>74.0</td>\n",
       "      <td>1.0</td>\n",
       "      <td>0.0</td>\n",
       "      <td>2785.0</td>\n",
       "      <td>62.0</td>\n",
       "      <td>170.0</td>\n",
       "      <td>72.6</td>\n",
       "      <td>25.12</td>\n",
       "    </tr>\n",
       "    <tr>\n",
       "      <th>1</th>\n",
       "      <td>1</td>\n",
       "      <td>男</td>\n",
       "      <td>4.27</td>\n",
       "      <td>70.0</td>\n",
       "      <td>7.70</td>\n",
       "      <td>78.0</td>\n",
       "      <td>225.0</td>\n",
       "      <td>74.0</td>\n",
       "      <td>11.0</td>\n",
       "      <td>74.0</td>\n",
       "      <td>7.0</td>\n",
       "      <td>60.0</td>\n",
       "      <td>3133.0</td>\n",
       "      <td>68.0</td>\n",
       "      <td>174.0</td>\n",
       "      <td>52.7</td>\n",
       "      <td>17.41</td>\n",
       "    </tr>\n",
       "    <tr>\n",
       "      <th>2</th>\n",
       "      <td>1</td>\n",
       "      <td>男</td>\n",
       "      <td>4.15</td>\n",
       "      <td>74.0</td>\n",
       "      <td>8.45</td>\n",
       "      <td>70.0</td>\n",
       "      <td>218.0</td>\n",
       "      <td>70.0</td>\n",
       "      <td>14.0</td>\n",
       "      <td>78.0</td>\n",
       "      <td>1.0</td>\n",
       "      <td>0.0</td>\n",
       "      <td>3901.0</td>\n",
       "      <td>80.0</td>\n",
       "      <td>169.0</td>\n",
       "      <td>46.5</td>\n",
       "      <td>16.28</td>\n",
       "    </tr>\n",
       "    <tr>\n",
       "      <th>3</th>\n",
       "      <td>1</td>\n",
       "      <td>男</td>\n",
       "      <td>4.35</td>\n",
       "      <td>68.0</td>\n",
       "      <td>8.05</td>\n",
       "      <td>74.0</td>\n",
       "      <td>206.0</td>\n",
       "      <td>64.0</td>\n",
       "      <td>13.0</td>\n",
       "      <td>76.0</td>\n",
       "      <td>1.0</td>\n",
       "      <td>0.0</td>\n",
       "      <td>4946.0</td>\n",
       "      <td>100.0</td>\n",
       "      <td>183.0</td>\n",
       "      <td>79.7</td>\n",
       "      <td>23.80</td>\n",
       "    </tr>\n",
       "    <tr>\n",
       "      <th>4</th>\n",
       "      <td>1</td>\n",
       "      <td>男</td>\n",
       "      <td>3.73</td>\n",
       "      <td>85.0</td>\n",
       "      <td>7.52</td>\n",
       "      <td>78.0</td>\n",
       "      <td>210.0</td>\n",
       "      <td>66.0</td>\n",
       "      <td>13.0</td>\n",
       "      <td>76.0</td>\n",
       "      <td>9.0</td>\n",
       "      <td>68.0</td>\n",
       "      <td>3538.0</td>\n",
       "      <td>74.0</td>\n",
       "      <td>171.0</td>\n",
       "      <td>54.7</td>\n",
       "      <td>18.71</td>\n",
       "    </tr>\n",
       "    <tr>\n",
       "      <th>...</th>\n",
       "      <td>...</td>\n",
       "      <td>...</td>\n",
       "      <td>...</td>\n",
       "      <td>...</td>\n",
       "      <td>...</td>\n",
       "      <td>...</td>\n",
       "      <td>...</td>\n",
       "      <td>...</td>\n",
       "      <td>...</td>\n",
       "      <td>...</td>\n",
       "      <td>...</td>\n",
       "      <td>...</td>\n",
       "      <td>...</td>\n",
       "      <td>...</td>\n",
       "      <td>...</td>\n",
       "      <td>...</td>\n",
       "      <td>...</td>\n",
       "    </tr>\n",
       "    <tr>\n",
       "      <th>472</th>\n",
       "      <td>17</td>\n",
       "      <td>男</td>\n",
       "      <td>4.38</td>\n",
       "      <td>68.0</td>\n",
       "      <td>8.27</td>\n",
       "      <td>72.0</td>\n",
       "      <td>208.0</td>\n",
       "      <td>66.0</td>\n",
       "      <td>10.0</td>\n",
       "      <td>72.0</td>\n",
       "      <td>0.0</td>\n",
       "      <td>0.0</td>\n",
       "      <td>4647.0</td>\n",
       "      <td>100.0</td>\n",
       "      <td>176.0</td>\n",
       "      <td>69.5</td>\n",
       "      <td>22.44</td>\n",
       "    </tr>\n",
       "    <tr>\n",
       "      <th>473</th>\n",
       "      <td>17</td>\n",
       "      <td>男</td>\n",
       "      <td>5.32</td>\n",
       "      <td>40.0</td>\n",
       "      <td>9.55</td>\n",
       "      <td>50.0</td>\n",
       "      <td>210.0</td>\n",
       "      <td>66.0</td>\n",
       "      <td>15.0</td>\n",
       "      <td>80.0</td>\n",
       "      <td>6.0</td>\n",
       "      <td>50.0</td>\n",
       "      <td>7042.0</td>\n",
       "      <td>100.0</td>\n",
       "      <td>177.0</td>\n",
       "      <td>76.0</td>\n",
       "      <td>24.26</td>\n",
       "    </tr>\n",
       "    <tr>\n",
       "      <th>474</th>\n",
       "      <td>17</td>\n",
       "      <td>男</td>\n",
       "      <td>3.42</td>\n",
       "      <td>100.0</td>\n",
       "      <td>7.50</td>\n",
       "      <td>80.0</td>\n",
       "      <td>252.0</td>\n",
       "      <td>90.0</td>\n",
       "      <td>13.0</td>\n",
       "      <td>76.0</td>\n",
       "      <td>13.0</td>\n",
       "      <td>85.0</td>\n",
       "      <td>5755.0</td>\n",
       "      <td>100.0</td>\n",
       "      <td>181.0</td>\n",
       "      <td>65.0</td>\n",
       "      <td>19.84</td>\n",
       "    </tr>\n",
       "    <tr>\n",
       "      <th>475</th>\n",
       "      <td>17</td>\n",
       "      <td>男</td>\n",
       "      <td>4.65</td>\n",
       "      <td>62.0</td>\n",
       "      <td>7.81</td>\n",
       "      <td>76.0</td>\n",
       "      <td>208.0</td>\n",
       "      <td>66.0</td>\n",
       "      <td>14.0</td>\n",
       "      <td>78.0</td>\n",
       "      <td>11.0</td>\n",
       "      <td>76.0</td>\n",
       "      <td>5688.0</td>\n",
       "      <td>100.0</td>\n",
       "      <td>172.0</td>\n",
       "      <td>51.7</td>\n",
       "      <td>17.48</td>\n",
       "    </tr>\n",
       "    <tr>\n",
       "      <th>476</th>\n",
       "      <td>17</td>\n",
       "      <td>男</td>\n",
       "      <td>0.00</td>\n",
       "      <td>0.0</td>\n",
       "      <td>0.00</td>\n",
       "      <td>0.0</td>\n",
       "      <td>0.0</td>\n",
       "      <td>0.0</td>\n",
       "      <td>0.0</td>\n",
       "      <td>0.0</td>\n",
       "      <td>0.0</td>\n",
       "      <td>0.0</td>\n",
       "      <td>0.0</td>\n",
       "      <td>0.0</td>\n",
       "      <td>0.0</td>\n",
       "      <td>0.0</td>\n",
       "      <td>0.00</td>\n",
       "    </tr>\n",
       "  </tbody>\n",
       "</table>\n",
       "<p>477 rows × 17 columns</p>\n",
       "</div>"
      ],
      "text/plain": [
       "     班级 性别  男1000米跑  男1000米跑分数  男50米跑  男50米跑分数    男跳远  男跳远分数  男体前屈  男体前屈分数  \\\n",
       "0     1  男     4.22       72.0   8.88     66.0  195.0   60.0  12.0    74.0   \n",
       "1     1  男     4.27       70.0   7.70     78.0  225.0   74.0  11.0    74.0   \n",
       "2     1  男     4.15       74.0   8.45     70.0  218.0   70.0  14.0    78.0   \n",
       "3     1  男     4.35       68.0   8.05     74.0  206.0   64.0  13.0    76.0   \n",
       "4     1  男     3.73       85.0   7.52     78.0  210.0   66.0  13.0    76.0   \n",
       "..   .. ..      ...        ...    ...      ...    ...    ...   ...     ...   \n",
       "472  17  男     4.38       68.0   8.27     72.0  208.0   66.0  10.0    72.0   \n",
       "473  17  男     5.32       40.0   9.55     50.0  210.0   66.0  15.0    80.0   \n",
       "474  17  男     3.42      100.0   7.50     80.0  252.0   90.0  13.0    76.0   \n",
       "475  17  男     4.65       62.0   7.81     76.0  208.0   66.0  14.0    78.0   \n",
       "476  17  男     0.00        0.0   0.00      0.0    0.0    0.0   0.0     0.0   \n",
       "\n",
       "      男引体  男引体分数    男肺活量  男肺活量分数     身高    体重    BMI  \n",
       "0     1.0    0.0  2785.0    62.0  170.0  72.6  25.12  \n",
       "1     7.0   60.0  3133.0    68.0  174.0  52.7  17.41  \n",
       "2     1.0    0.0  3901.0    80.0  169.0  46.5  16.28  \n",
       "3     1.0    0.0  4946.0   100.0  183.0  79.7  23.80  \n",
       "4     9.0   68.0  3538.0    74.0  171.0  54.7  18.71  \n",
       "..    ...    ...     ...     ...    ...   ...    ...  \n",
       "472   0.0    0.0  4647.0   100.0  176.0  69.5  22.44  \n",
       "473   6.0   50.0  7042.0   100.0  177.0  76.0  24.26  \n",
       "474  13.0   85.0  5755.0   100.0  181.0  65.0  19.84  \n",
       "475  11.0   76.0  5688.0   100.0  172.0  51.7  17.48  \n",
       "476   0.0    0.0     0.0     0.0    0.0   0.0   0.00  \n",
       "\n",
       "[477 rows x 17 columns]"
      ]
     },
     "execution_count": 109,
     "metadata": {},
     "output_type": "execute_result"
    }
   ],
   "source": [
    "mens_final"
   ]
  },
  {
   "cell_type": "code",
   "execution_count": 111,
   "metadata": {
    "ExecuteTime": {
     "end_time": "2021-07-23T07:21:59.204520Z",
     "start_time": "2021-07-23T07:21:59.173900Z"
    }
   },
   "outputs": [
    {
     "data": {
      "text/html": [
       "<div>\n",
       "<style scoped>\n",
       "    .dataframe tbody tr th:only-of-type {\n",
       "        vertical-align: middle;\n",
       "    }\n",
       "\n",
       "    .dataframe tbody tr th {\n",
       "        vertical-align: top;\n",
       "    }\n",
       "\n",
       "    .dataframe thead th {\n",
       "        text-align: right;\n",
       "    }\n",
       "</style>\n",
       "<table border=\"1\" class=\"dataframe\">\n",
       "  <thead>\n",
       "    <tr style=\"text-align: right;\">\n",
       "      <th></th>\n",
       "      <th>班级</th>\n",
       "      <th>性别</th>\n",
       "      <th>女800米跑</th>\n",
       "      <th>女800米跑分数</th>\n",
       "      <th>女50米跑</th>\n",
       "      <th>女50米跑分数</th>\n",
       "      <th>女跳远</th>\n",
       "      <th>女跳远分数</th>\n",
       "      <th>女体前屈</th>\n",
       "      <th>女体前屈分数</th>\n",
       "      <th>女仰卧</th>\n",
       "      <th>女仰卧分数</th>\n",
       "      <th>女肺活量</th>\n",
       "      <th>女肺活量分数</th>\n",
       "      <th>身高</th>\n",
       "      <th>体重</th>\n",
       "      <th>BMI</th>\n",
       "    </tr>\n",
       "  </thead>\n",
       "  <tbody>\n",
       "    <tr>\n",
       "      <th>0</th>\n",
       "      <td>1</td>\n",
       "      <td>女</td>\n",
       "      <td>3.22</td>\n",
       "      <td>100.0</td>\n",
       "      <td>9.32</td>\n",
       "      <td>72.0</td>\n",
       "      <td>185.0</td>\n",
       "      <td>85.0</td>\n",
       "      <td>16.0</td>\n",
       "      <td>76.0</td>\n",
       "      <td>48.0</td>\n",
       "      <td>85.0</td>\n",
       "      <td>3775.0</td>\n",
       "      <td>100.0</td>\n",
       "      <td>163.0</td>\n",
       "      <td>51.3</td>\n",
       "      <td>19.31</td>\n",
       "    </tr>\n",
       "    <tr>\n",
       "      <th>1</th>\n",
       "      <td>1</td>\n",
       "      <td>女</td>\n",
       "      <td>4.59</td>\n",
       "      <td>60.0</td>\n",
       "      <td>11.44</td>\n",
       "      <td>10.0</td>\n",
       "      <td>148.0</td>\n",
       "      <td>60.0</td>\n",
       "      <td>9.0</td>\n",
       "      <td>66.0</td>\n",
       "      <td>29.0</td>\n",
       "      <td>66.0</td>\n",
       "      <td>3683.0</td>\n",
       "      <td>100.0</td>\n",
       "      <td>163.0</td>\n",
       "      <td>66.6</td>\n",
       "      <td>25.07</td>\n",
       "    </tr>\n",
       "    <tr>\n",
       "      <th>2</th>\n",
       "      <td>1</td>\n",
       "      <td>女</td>\n",
       "      <td>3.46</td>\n",
       "      <td>95.0</td>\n",
       "      <td>13.40</td>\n",
       "      <td>0.0</td>\n",
       "      <td>150.0</td>\n",
       "      <td>60.0</td>\n",
       "      <td>7.0</td>\n",
       "      <td>64.0</td>\n",
       "      <td>40.0</td>\n",
       "      <td>76.0</td>\n",
       "      <td>3331.0</td>\n",
       "      <td>100.0</td>\n",
       "      <td>157.0</td>\n",
       "      <td>60.0</td>\n",
       "      <td>24.34</td>\n",
       "    </tr>\n",
       "    <tr>\n",
       "      <th>3</th>\n",
       "      <td>1</td>\n",
       "      <td>女</td>\n",
       "      <td>3.39</td>\n",
       "      <td>100.0</td>\n",
       "      <td>9.52</td>\n",
       "      <td>70.0</td>\n",
       "      <td>172.0</td>\n",
       "      <td>76.0</td>\n",
       "      <td>21.0</td>\n",
       "      <td>90.0</td>\n",
       "      <td>46.0</td>\n",
       "      <td>85.0</td>\n",
       "      <td>3701.0</td>\n",
       "      <td>100.0</td>\n",
       "      <td>160.0</td>\n",
       "      <td>50.7</td>\n",
       "      <td>19.80</td>\n",
       "    </tr>\n",
       "    <tr>\n",
       "      <th>4</th>\n",
       "      <td>1</td>\n",
       "      <td>女</td>\n",
       "      <td>3.43</td>\n",
       "      <td>95.0</td>\n",
       "      <td>9.79</td>\n",
       "      <td>68.0</td>\n",
       "      <td>145.0</td>\n",
       "      <td>50.0</td>\n",
       "      <td>8.0</td>\n",
       "      <td>64.0</td>\n",
       "      <td>34.0</td>\n",
       "      <td>70.0</td>\n",
       "      <td>3592.0</td>\n",
       "      <td>100.0</td>\n",
       "      <td>167.0</td>\n",
       "      <td>63.9</td>\n",
       "      <td>22.91</td>\n",
       "    </tr>\n",
       "    <tr>\n",
       "      <th>...</th>\n",
       "      <td>...</td>\n",
       "      <td>...</td>\n",
       "      <td>...</td>\n",
       "      <td>...</td>\n",
       "      <td>...</td>\n",
       "      <td>...</td>\n",
       "      <td>...</td>\n",
       "      <td>...</td>\n",
       "      <td>...</td>\n",
       "      <td>...</td>\n",
       "      <td>...</td>\n",
       "      <td>...</td>\n",
       "      <td>...</td>\n",
       "      <td>...</td>\n",
       "      <td>...</td>\n",
       "      <td>...</td>\n",
       "      <td>...</td>\n",
       "    </tr>\n",
       "    <tr>\n",
       "      <th>588</th>\n",
       "      <td>17</td>\n",
       "      <td>女</td>\n",
       "      <td>3.51</td>\n",
       "      <td>90.0</td>\n",
       "      <td>9.60</td>\n",
       "      <td>70.0</td>\n",
       "      <td>150.0</td>\n",
       "      <td>60.0</td>\n",
       "      <td>24.0</td>\n",
       "      <td>95.0</td>\n",
       "      <td>41.0</td>\n",
       "      <td>78.0</td>\n",
       "      <td>2255.0</td>\n",
       "      <td>70.0</td>\n",
       "      <td>158.0</td>\n",
       "      <td>49.0</td>\n",
       "      <td>19.63</td>\n",
       "    </tr>\n",
       "    <tr>\n",
       "      <th>589</th>\n",
       "      <td>17</td>\n",
       "      <td>女</td>\n",
       "      <td>4.00</td>\n",
       "      <td>76.0</td>\n",
       "      <td>10.18</td>\n",
       "      <td>64.0</td>\n",
       "      <td>150.0</td>\n",
       "      <td>60.0</td>\n",
       "      <td>13.0</td>\n",
       "      <td>72.0</td>\n",
       "      <td>36.0</td>\n",
       "      <td>72.0</td>\n",
       "      <td>2937.0</td>\n",
       "      <td>85.0</td>\n",
       "      <td>161.0</td>\n",
       "      <td>55.7</td>\n",
       "      <td>21.49</td>\n",
       "    </tr>\n",
       "    <tr>\n",
       "      <th>590</th>\n",
       "      <td>17</td>\n",
       "      <td>女</td>\n",
       "      <td>3.45</td>\n",
       "      <td>95.0</td>\n",
       "      <td>10.18</td>\n",
       "      <td>64.0</td>\n",
       "      <td>152.0</td>\n",
       "      <td>62.0</td>\n",
       "      <td>15.0</td>\n",
       "      <td>76.0</td>\n",
       "      <td>35.0</td>\n",
       "      <td>72.0</td>\n",
       "      <td>2592.0</td>\n",
       "      <td>76.0</td>\n",
       "      <td>165.0</td>\n",
       "      <td>48.6</td>\n",
       "      <td>17.85</td>\n",
       "    </tr>\n",
       "    <tr>\n",
       "      <th>591</th>\n",
       "      <td>17</td>\n",
       "      <td>女</td>\n",
       "      <td>4.01</td>\n",
       "      <td>74.0</td>\n",
       "      <td>9.67</td>\n",
       "      <td>68.0</td>\n",
       "      <td>165.0</td>\n",
       "      <td>70.0</td>\n",
       "      <td>10.0</td>\n",
       "      <td>68.0</td>\n",
       "      <td>41.0</td>\n",
       "      <td>78.0</td>\n",
       "      <td>1829.0</td>\n",
       "      <td>60.0</td>\n",
       "      <td>154.0</td>\n",
       "      <td>43.6</td>\n",
       "      <td>18.38</td>\n",
       "    </tr>\n",
       "    <tr>\n",
       "      <th>592</th>\n",
       "      <td>17</td>\n",
       "      <td>女</td>\n",
       "      <td>4.48</td>\n",
       "      <td>64.0</td>\n",
       "      <td>9.09</td>\n",
       "      <td>74.0</td>\n",
       "      <td>180.0</td>\n",
       "      <td>80.0</td>\n",
       "      <td>10.0</td>\n",
       "      <td>68.0</td>\n",
       "      <td>46.0</td>\n",
       "      <td>85.0</td>\n",
       "      <td>2962.0</td>\n",
       "      <td>85.0</td>\n",
       "      <td>162.0</td>\n",
       "      <td>55.3</td>\n",
       "      <td>21.07</td>\n",
       "    </tr>\n",
       "  </tbody>\n",
       "</table>\n",
       "<p>593 rows × 17 columns</p>\n",
       "</div>"
      ],
      "text/plain": [
       "     班级 性别  女800米跑  女800米跑分数  女50米跑  女50米跑分数    女跳远  女跳远分数  女体前屈  女体前屈分数  \\\n",
       "0     1  女    3.22     100.0   9.32     72.0  185.0   85.0  16.0    76.0   \n",
       "1     1  女    4.59      60.0  11.44     10.0  148.0   60.0   9.0    66.0   \n",
       "2     1  女    3.46      95.0  13.40      0.0  150.0   60.0   7.0    64.0   \n",
       "3     1  女    3.39     100.0   9.52     70.0  172.0   76.0  21.0    90.0   \n",
       "4     1  女    3.43      95.0   9.79     68.0  145.0   50.0   8.0    64.0   \n",
       "..   .. ..     ...       ...    ...      ...    ...    ...   ...     ...   \n",
       "588  17  女    3.51      90.0   9.60     70.0  150.0   60.0  24.0    95.0   \n",
       "589  17  女    4.00      76.0  10.18     64.0  150.0   60.0  13.0    72.0   \n",
       "590  17  女    3.45      95.0  10.18     64.0  152.0   62.0  15.0    76.0   \n",
       "591  17  女    4.01      74.0   9.67     68.0  165.0   70.0  10.0    68.0   \n",
       "592  17  女    4.48      64.0   9.09     74.0  180.0   80.0  10.0    68.0   \n",
       "\n",
       "      女仰卧  女仰卧分数    女肺活量  女肺活量分数     身高    体重    BMI  \n",
       "0    48.0   85.0  3775.0   100.0  163.0  51.3  19.31  \n",
       "1    29.0   66.0  3683.0   100.0  163.0  66.6  25.07  \n",
       "2    40.0   76.0  3331.0   100.0  157.0  60.0  24.34  \n",
       "3    46.0   85.0  3701.0   100.0  160.0  50.7  19.80  \n",
       "4    34.0   70.0  3592.0   100.0  167.0  63.9  22.91  \n",
       "..    ...    ...     ...     ...    ...   ...    ...  \n",
       "588  41.0   78.0  2255.0    70.0  158.0  49.0  19.63  \n",
       "589  36.0   72.0  2937.0    85.0  161.0  55.7  21.49  \n",
       "590  35.0   72.0  2592.0    76.0  165.0  48.6  17.85  \n",
       "591  41.0   78.0  1829.0    60.0  154.0  43.6  18.38  \n",
       "592  46.0   85.0  2962.0    85.0  162.0  55.3  21.07  \n",
       "\n",
       "[593 rows x 17 columns]"
      ]
     },
     "execution_count": 111,
     "metadata": {},
     "output_type": "execute_result"
    }
   ],
   "source": [
    "womens_final"
   ]
  },
  {
   "cell_type": "code",
   "execution_count": null,
   "metadata": {},
   "outputs": [],
   "source": []
  }
 ],
 "metadata": {
  "kernelspec": {
   "display_name": "Python 3",
   "language": "python",
   "name": "python3"
  },
  "language_info": {
   "codemirror_mode": {
    "name": "ipython",
    "version": 3
   },
   "file_extension": ".py",
   "mimetype": "text/x-python",
   "name": "python",
   "nbconvert_exporter": "python",
   "pygments_lexer": "ipython3",
   "version": "3.8.3"
  },
  "toc": {
   "base_numbering": 1,
   "nav_menu": {},
   "number_sections": false,
   "sideBar": true,
   "skip_h1_title": false,
   "title_cell": "Table of Contents",
   "title_sidebar": "Contents",
   "toc_cell": false,
   "toc_position": {},
   "toc_section_display": true,
   "toc_window_display": true
  }
 },
 "nbformat": 4,
 "nbformat_minor": 4
}
